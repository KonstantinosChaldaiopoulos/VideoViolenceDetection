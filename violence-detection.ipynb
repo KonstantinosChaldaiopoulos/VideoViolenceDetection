{
  "cells": [
    {
      "cell_type": "markdown",
      "metadata": {
        "id": "LG3vGak1pbDl"
      },
      "source": [
        "**`⚠`** <font size=\"2\">**WARNING:** Some of the code lines in this notebook may be cropped out due to display limitations. To view the entire code properly, please click on this [link](https://github.com/KonstantinosChaldaiopoulos/VideoViolenceDetection/violence-detection.ipynb) to open the notebook in nbviewer or this [link](https://colab.research.google.com/github/KonstantinosChaldaiopoulos/VideoViolenceDetection/violence-detection.ipynb) to open the notebook in Google Colab.</font>"
      ]
    },
    {
      "cell_type": "markdown",
      "metadata": {
        "id": "vMWE0ZAHo8iM"
      },
      "source": [
        "# **Violence Detection in Movies: A Multimodal Approach**\n",
        "\n",
        "**Overview:** With the rapid growth of video content, the efficient detection of violence in videos has become increasingly crucial for ensuring effective regulation. In this project, our main focus was on developing a multimodal classification system capable of classifying videos into violent and nonviolent. To achieve this, we used three modalities: text, audio, and image data. We explored both early fusion, where all modalities are combined and processed through one neural network, and late fusion, where individual models for each modality produce outputs that are combined to make a final decision."
      ]
    },
    {
      "cell_type": "code",
      "execution_count": null,
      "metadata": {
        "colab": {
          "base_uri": "https://localhost:8080/"
        },
        "id": "cR2inffW5BLo",
        "outputId": "147a0cf8-258a-441c-b284-c43e7ce68068"
      },
      "outputs": [
        {
          "name": "stdout",
          "output_type": "stream",
          "text": [
            "Collecting pyAudioAnalysis\n",
            "  Downloading pyAudioAnalysis-0.3.14.tar.gz (41.3 MB)\n",
            "\u001b[2K     \u001b[90m━━━━━━━━━━━━━━━━━━━━━━━━━━━━━━━━━━━━━━━━\u001b[0m \u001b[32m41.3/41.3 MB\u001b[0m \u001b[31m15.5 MB/s\u001b[0m eta \u001b[36m0:00:00\u001b[0m\n",
            "\u001b[?25h  Preparing metadata (setup.py) ... \u001b[?25l\u001b[?25hdone\n",
            "Building wheels for collected packages: pyAudioAnalysis\n",
            "  Building wheel for pyAudioAnalysis (setup.py) ... \u001b[?25l\u001b[?25hdone\n",
            "  Created wheel for pyAudioAnalysis: filename=pyAudioAnalysis-0.3.14-py3-none-any.whl size=41264374 sha256=50de498aa2bc3b8938b035ee24ac1e64d2482f097e89224a1246af88d89b6c74\n",
            "  Stored in directory: /root/.cache/pip/wheels/a7/54/73/fa830689c2440d2c81ff175c60e374930ad1607a8881e0f43f\n",
            "Successfully built pyAudioAnalysis\n",
            "Installing collected packages: pyAudioAnalysis\n",
            "Successfully installed pyAudioAnalysis-0.3.14\n",
            "Collecting eyed3\n",
            "  Downloading eyed3-0.9.7-py3-none-any.whl (246 kB)\n",
            "\u001b[2K     \u001b[90m━━━━━━━━━━━━━━━━━━━━━━━━━━━━━━━━━━━━━━\u001b[0m \u001b[32m246.1/246.1 kB\u001b[0m \u001b[31m13.3 MB/s\u001b[0m eta \u001b[36m0:00:00\u001b[0m\n",
            "\u001b[?25hCollecting coverage[toml]<6.0.0,>=5.3.1 (from eyed3)\n",
            "  Downloading coverage-5.5-cp310-cp310-manylinux1_x86_64.whl (238 kB)\n",
            "\u001b[2K     \u001b[90m━━━━━━━━━━━━━━━━━━━━━━━━━━━━━━━━━━━━━━\u001b[0m \u001b[32m239.0/239.0 kB\u001b[0m \u001b[31m31.4 MB/s\u001b[0m eta \u001b[36m0:00:00\u001b[0m\n",
            "\u001b[?25hCollecting deprecation<3.0.0,>=2.1.0 (from eyed3)\n",
            "  Downloading deprecation-2.1.0-py2.py3-none-any.whl (11 kB)\n",
            "Collecting filetype<2.0.0,>=1.0.7 (from eyed3)\n",
            "  Downloading filetype-1.2.0-py2.py3-none-any.whl (19 kB)\n",
            "Requirement already satisfied: toml in /usr/local/lib/python3.10/dist-packages (from coverage[toml]<6.0.0,>=5.3.1->eyed3) (0.10.2)\n",
            "Requirement already satisfied: packaging in /usr/local/lib/python3.10/dist-packages (from deprecation<3.0.0,>=2.1.0->eyed3) (23.1)\n",
            "Installing collected packages: filetype, deprecation, coverage, eyed3\n",
            "Successfully installed coverage-5.5 deprecation-2.1.0 eyed3-0.9.7 filetype-1.2.0\n",
            "Collecting pydub\n",
            "  Downloading pydub-0.25.1-py2.py3-none-any.whl (32 kB)\n",
            "Installing collected packages: pydub\n",
            "Successfully installed pydub-0.25.1\n",
            "Collecting transformers\n",
            "  Downloading transformers-4.30.2-py3-none-any.whl (7.2 MB)\n",
            "\u001b[2K     \u001b[90m━━━━━━━━━━━━━━━━━━━━━━━━━━━━━━━━━━━━━━━━\u001b[0m \u001b[32m7.2/7.2 MB\u001b[0m \u001b[31m29.1 MB/s\u001b[0m eta \u001b[36m0:00:00\u001b[0m\n",
            "\u001b[?25hRequirement already satisfied: filelock in /usr/local/lib/python3.10/dist-packages (from transformers) (3.12.2)\n",
            "Collecting huggingface-hub<1.0,>=0.14.1 (from transformers)\n",
            "  Downloading huggingface_hub-0.15.1-py3-none-any.whl (236 kB)\n",
            "\u001b[2K     \u001b[90m━━━━━━━━━━━━━━━━━━━━━━━━━━━━━━━━━━━━━━\u001b[0m \u001b[32m236.8/236.8 kB\u001b[0m \u001b[31m32.0 MB/s\u001b[0m eta \u001b[36m0:00:00\u001b[0m\n",
            "\u001b[?25hRequirement already satisfied: numpy>=1.17 in /usr/local/lib/python3.10/dist-packages (from transformers) (1.22.4)\n",
            "Requirement already satisfied: packaging>=20.0 in /usr/local/lib/python3.10/dist-packages (from transformers) (23.1)\n",
            "Requirement already satisfied: pyyaml>=5.1 in /usr/local/lib/python3.10/dist-packages (from transformers) (6.0)\n",
            "Requirement already satisfied: regex!=2019.12.17 in /usr/local/lib/python3.10/dist-packages (from transformers) (2022.10.31)\n",
            "Requirement already satisfied: requests in /usr/local/lib/python3.10/dist-packages (from transformers) (2.27.1)\n",
            "Collecting tokenizers!=0.11.3,<0.14,>=0.11.1 (from transformers)\n",
            "  Downloading tokenizers-0.13.3-cp310-cp310-manylinux_2_17_x86_64.manylinux2014_x86_64.whl (7.8 MB)\n",
            "\u001b[2K     \u001b[90m━━━━━━━━━━━━━━━━━━━━━━━━━━━━━━━━━━━━━━━━\u001b[0m \u001b[32m7.8/7.8 MB\u001b[0m \u001b[31m86.0 MB/s\u001b[0m eta \u001b[36m0:00:00\u001b[0m\n",
            "\u001b[?25hCollecting safetensors>=0.3.1 (from transformers)\n",
            "  Downloading safetensors-0.3.1-cp310-cp310-manylinux_2_17_x86_64.manylinux2014_x86_64.whl (1.3 MB)\n",
            "\u001b[2K     \u001b[90m━━━━━━━━━━━━━━━━━━━━━━━━━━━━━━━━━━━━━━━━\u001b[0m \u001b[32m1.3/1.3 MB\u001b[0m \u001b[31m96.4 MB/s\u001b[0m eta \u001b[36m0:00:00\u001b[0m\n",
            "\u001b[?25hRequirement already satisfied: tqdm>=4.27 in /usr/local/lib/python3.10/dist-packages (from transformers) (4.65.0)\n",
            "Requirement already satisfied: fsspec in /usr/local/lib/python3.10/dist-packages (from huggingface-hub<1.0,>=0.14.1->transformers) (2023.6.0)\n",
            "Requirement already satisfied: typing-extensions>=3.7.4.3 in /usr/local/lib/python3.10/dist-packages (from huggingface-hub<1.0,>=0.14.1->transformers) (4.6.3)\n",
            "Requirement already satisfied: urllib3<1.27,>=1.21.1 in /usr/local/lib/python3.10/dist-packages (from requests->transformers) (1.26.16)\n",
            "Requirement already satisfied: certifi>=2017.4.17 in /usr/local/lib/python3.10/dist-packages (from requests->transformers) (2023.5.7)\n",
            "Requirement already satisfied: charset-normalizer~=2.0.0 in /usr/local/lib/python3.10/dist-packages (from requests->transformers) (2.0.12)\n",
            "Requirement already satisfied: idna<4,>=2.5 in /usr/local/lib/python3.10/dist-packages (from requests->transformers) (3.4)\n",
            "Installing collected packages: tokenizers, safetensors, huggingface-hub, transformers\n",
            "Successfully installed huggingface-hub-0.15.1 safetensors-0.3.1 tokenizers-0.13.3 transformers-4.30.2\n",
            "Collecting setuptools-rust\n",
            "  Downloading setuptools_rust-1.6.0-py3-none-any.whl (23 kB)\n",
            "Requirement already satisfied: setuptools>=62.4 in /usr/local/lib/python3.10/dist-packages (from setuptools-rust) (67.7.2)\n",
            "Collecting semantic-version<3,>=2.8.2 (from setuptools-rust)\n",
            "  Downloading semantic_version-2.10.0-py2.py3-none-any.whl (15 kB)\n",
            "Requirement already satisfied: typing-extensions>=3.7.4.3 in /usr/local/lib/python3.10/dist-packages (from setuptools-rust) (4.6.3)\n",
            "Installing collected packages: semantic-version, setuptools-rust\n",
            "Successfully installed semantic-version-2.10.0 setuptools-rust-1.6.0\n"
          ]
        }
      ],
      "source": [
        "!pip install pyAudioAnalysis && pip install eyed3 && pip install pydub && pip install transformers && pip install setuptools-rust"
      ]
    },
    {
      "cell_type": "markdown",
      "metadata": {
        "id": "152eLRv9qSUT"
      },
      "source": [
        "## **1. Import all the necessary modules**\n",
        "\n",
        "**Briefly:** `warnings` module handles warning messages, `numpy` is used for numerical arrays, `google.colab` mounts Google Drive, changing the working directory to \"mdml-run-env.\" Custom modules `_model`, `_dataset`, and `_utils` contain essential classes and functions for the multimodal classification system."
      ]
    },
    {
      "cell_type": "code",
      "execution_count": null,
      "metadata": {
        "colab": {
          "base_uri": "https://localhost:8080/"
        },
        "id": "qeFG6CqvB_d7",
        "outputId": "a91ec9fb-5c87-42fe-bf2e-776872ccc84b"
      },
      "outputs": [
        {
          "name": "stdout",
          "output_type": "stream",
          "text": [
            "Mounted at /content/drive\n",
            "/content/drive/MyDrive/mdml-run-env\n"
          ]
        }
      ],
      "source": [
        "import warnings\n",
        "import numpy as np\n",
        "from google.colab import drive\n",
        "\n",
        "drive.mount('/content/drive')\n",
        "%cd /content/drive/MyDrive/mdml-run-env\n",
        "\n",
        "from _model import *\n",
        "from _dataset import *\n",
        "from _utils import *"
      ]
    },
    {
      "cell_type": "markdown",
      "metadata": {
        "id": "hxPqcaj2rCaz"
      },
      "source": [
        "## **2. Set up Device and Dataset Path**\n",
        "\n",
        "We configure the device to use either the GPU (CUDA) if it is available or the CPU for computations. This enables faster processing of deep learning operations if a compatible GPU is present. Next, we set NumPy's print options to suppress scientific notation when displaying arrays, ensuring better readability of numeric data. To avoid displaying certain types of warnings, we use warnings.filterwarnings() to ignore UserWarnings and prevent them from cluttering the output. Finally, we define the variable path to store the path to the movie dataset. This path is essential for loading and accessing the dataset during various stages of the project."
      ]
    },
    {
      "cell_type": "code",
      "execution_count": null,
      "metadata": {
        "id": "I55nhThhHrWB"
      },
      "outputs": [],
      "source": [
        "device = torch.device(\"cuda\" if torch.cuda.is_available() else \"cpu\")\n",
        "np.set_printoptions(suppress=True)\n",
        "warnings.filterwarnings(\"ignore\", category=UserWarning)\n",
        "\n",
        "path = \"/content/drive/MyDrive/DATASETS/movie-dataset\""
      ]
    },
    {
      "cell_type": "markdown",
      "metadata": {
        "id": "OTzXBCJPsX9v"
      },
      "source": [
        "## **3. Load Dataset and Multimodal Feature Extraction**\n",
        "\n",
        "We create a MovieDataset object named ds to handle the movie dataset. The dataset is set up to utilize the specified device for computation (either the GPU or CPU). The path variable, which was defined earlier, is passed to the dataset, allowing it to access and process the movie dataset from the specified location.\n",
        "\n",
        "To load the data and extract its features, the prepare_data() method of the MovieDataset class is called. This method processes the audio, image, and text data within the dataset. The audio data is resampled to a sample_rate of 16000 Hz, ensuring consistency across all audio files. Finally, the features of each modality, audio_data, image_data, and text_data, are saved and ready for use."
      ]
    },
    {
      "cell_type": "code",
      "execution_count": null,
      "metadata": {
        "colab": {
          "base_uri": "https://localhost:8080/",
          "height": 217,
          "referenced_widgets": [
            "a035f376e8dc497984b386bf3a253bcc",
            "84f90dc5c16b4ce09b0b3cb883571de2",
            "10d0e9d62a154e78b766c09fabbdd476",
            "20c122f9e7434a5399922725725cd33c",
            "8de0f33e6f884ba5a9931270f9735857",
            "cb47c4fe214a40f4843d321dffcc6d23",
            "04ed2268e943431894fc1e9d4a5e3029",
            "97e86262e6c24a1ab2364ac5dd8d92e2",
            "3d32732a85c64bd79cb439f99db22fc5",
            "39d20dafed6240029c4215db2ef4a472",
            "b9b5a3e0de3a464eb68006469c35fd04",
            "9fd1bcd509424459a44ae8cbbf51db75",
            "ac52f16299b94a599e60103ed30c4899",
            "fc9fcd5609984e20b4ed3f4f0c8d78f8",
            "bac242b8ad3c4524ab250800dca08e3b",
            "ce5a03c258b4481e8ce2735b60364955",
            "a8ef597c7e9f4ace947473d5e6ac6347",
            "75c3f24e10904da8908245865e209263",
            "994498cd440a48318a0a69543803b0f1",
            "d9a7356c06f643fab9c72dc4e147350d",
            "1bc8748bd6304e96ac9b6cd27c3af0cb",
            "901bd307740e4c2eabe14f7a52663640",
            "29b5cc2530cc4ffe9e5242f35831c16d",
            "d1780f67797c44f3949fe0812422d2a6",
            "358856a1cab349169a6844c6c0b640bf",
            "384190a65b3d4028a2c329689920dc0d",
            "70113961f03c4db9947b7b8f1cbcd150",
            "6bdc8ac14b6f4cafbf7ea9e4cda4fc0e",
            "e1629aaf0526469499806fc227a44e85",
            "de4007fdcd6a45418c157dbcb9ea593d",
            "1d29ed643f0144b7aaba052331ef3f5e",
            "226da969b8aa4677bda2866eeca4ba2d",
            "5b0310ab176a45a7b7e7b5d52663e844",
            "d5f24ab5c1e94b36829118c20b68a40d",
            "c1cd670214374c91b8037f1ec896773a",
            "1512cfe4979b441f9926d7c3fc41191e",
            "dbdc7f2cf53b48c8933803e4020cf3fb",
            "3601866e7c1545c793aee99030b3eeb7",
            "489934122238455187f4b273fcccb7ee",
            "1f01888cbc874086acc823be366520f2",
            "9b673de436114c0b801397614b19591d",
            "1a2afa30a5974cf493eeb107b60a2963",
            "8635c35520774e11ac95fdacd801ae59",
            "cfb1b4a86cc640a298e18c521e8643fc"
          ]
        },
        "id": "cXXfYdRtHyKZ",
        "outputId": "d4bd1998-45bf-48c4-c9ff-c19b4f906353"
      },
      "outputs": [
        {
          "data": {
            "application/vnd.jupyter.widget-view+json": {
              "model_id": "a035f376e8dc497984b386bf3a253bcc",
              "version_major": 2,
              "version_minor": 0
            },
            "text/plain": [
              "Downloading (…)solve/main/vocab.txt:   0%|          | 0.00/232k [00:00<?, ?B/s]"
            ]
          },
          "metadata": {},
          "output_type": "display_data"
        },
        {
          "data": {
            "application/vnd.jupyter.widget-view+json": {
              "model_id": "9fd1bcd509424459a44ae8cbbf51db75",
              "version_major": 2,
              "version_minor": 0
            },
            "text/plain": [
              "Downloading (…)okenizer_config.json:   0%|          | 0.00/28.0 [00:00<?, ?B/s]"
            ]
          },
          "metadata": {},
          "output_type": "display_data"
        },
        {
          "data": {
            "application/vnd.jupyter.widget-view+json": {
              "model_id": "29b5cc2530cc4ffe9e5242f35831c16d",
              "version_major": 2,
              "version_minor": 0
            },
            "text/plain": [
              "Downloading (…)lve/main/config.json:   0%|          | 0.00/483 [00:00<?, ?B/s]"
            ]
          },
          "metadata": {},
          "output_type": "display_data"
        },
        {
          "data": {
            "application/vnd.jupyter.widget-view+json": {
              "model_id": "d5f24ab5c1e94b36829118c20b68a40d",
              "version_major": 2,
              "version_minor": 0
            },
            "text/plain": [
              "Downloading model.safetensors:   0%|          | 0.00/268M [00:00<?, ?B/s]"
            ]
          },
          "metadata": {},
          "output_type": "display_data"
        },
        {
          "name": "stderr",
          "output_type": "stream",
          "text": [
            "Some weights of the model checkpoint at distilbert-base-uncased were not used when initializing DistilBertModel: ['vocab_projector.bias', 'vocab_layer_norm.weight', 'vocab_layer_norm.bias', 'vocab_transform.weight', 'vocab_transform.bias']\n",
            "- This IS expected if you are initializing DistilBertModel from the checkpoint of a model trained on another task or with another architecture (e.g. initializing a BertForSequenceClassification model from a BertForPreTraining model).\n",
            "- This IS NOT expected if you are initializing DistilBertModel from the checkpoint of a model that you expect to be exactly identical (initializing a BertForSequenceClassification model from a BertForSequenceClassification model).\n"
          ]
        }
      ],
      "source": [
        "ds = MovieDataset(device, path, sample_rate=16000, metric=\"std\")\n",
        "audio_data, image_data, text_data = ds.prepare_data()"
      ]
    },
    {
      "cell_type": "markdown",
      "metadata": {
        "id": "8DfUCEijtj1V"
      },
      "source": [
        "## **4. Perform Late Fusion Classification**\n",
        "\n",
        "We implement the late fusion technique for classification. Late fusion involves combining the outputs of separate classifiers, each trained on one specific modality (audio, image, or text), to make a final decision. The process starts by training individual classifiers for each modality using their corresponding preprocessed data. These classifiers are designed to learn patterns and features unique to their respective modalities. Once the classifiers are trained, we pass new unseen data through each of them to obtain their predictions."
      ]
    },
    {
      "cell_type": "markdown",
      "metadata": {
        "id": "I-YZS_OMvCTN"
      },
      "source": [
        "### **4.1. Audio Classification Model**\n",
        "\n",
        "In the Late Fusion approach for audio classification, we use a Support Vector Machine (SVM) classifier. To achieve this, we instantiate an instance of the TRClassifier class (traditional classifier), providing it with the necessary inputs. These inputs include the audio_data, which is obtained from the MovieDataset and contains the preprocessed audio features and labels for training, validation, and testing. Additionally, we pass the ds.get_feature_names() function as input to specify the names of the audio features used for training the SVM classifier. In this case, the number of selected features is set to num_features=7, indicating that we are using seven relevant audio features to distinguish between violent and non-violent audio samples.\n",
        "\n",
        "The TRClassifier class is designed to handle machine learning classification tasks, and in this case, it is configured to use the SVM classifier with the specified features. During training, the SVM classifier learns to differentiate between violent and non-violent audio samples based on the selected audio features. We then evaluate the performance of the SVM classifier on both the validation and test datasets, obtaining the validation accuracy (audio_val_acc) and the test accuracy (audio_test_acc) as performance metrics. These accuracies reflect how well the SVM classifier can classify videos into the \"violence\" and \"non-violence\" categories based on their audio features."
      ]
    },
    {
      "cell_type": "code",
      "execution_count": null,
      "metadata": {
        "colab": {
          "base_uri": "https://localhost:8080/"
        },
        "id": "-XxJhiMyH7ax",
        "outputId": "7caa7b64-84c7-4681-ec21-fd6ec35c2cdd"
      },
      "outputs": [
        {
          "name": "stdout",
          "output_type": "stream",
          "text": [
            "Validation Accuracy: 0.7\n",
            "Test Accuracy: 0.7\n"
          ]
        }
      ],
      "source": [
        "aSVM = TRClassifier(*audio_data, ds.get_feature_names(), num_features=7, classifier=\"svm\", scaler=None)\n",
        "audio_val_acc, audio_test_acc = aSVM.run()"
      ]
    },
    {
      "cell_type": "markdown",
      "metadata": {
        "id": "QdwsVBtowBK4"
      },
      "source": [
        "### **4.2. Text Classification Model**\n",
        "\n",
        "In the Late Fusion approach for text classification, we use a Support Vector Machine (SVM) classifier. To implement this, we instantiate the TRClassifier class with the appropriate inputs. For text classification, the input text_data is obtained from the MovieDataset and contains the preprocessed text embeddings and labels for training, validation, and testing. The TRClassifier class is specifically designed for machine learning classification tasks and can be configured to use different classifiers. In this case, we set the classifier to SVM and specify num_features=10, indicating that we utilize ten relevant text embeddings to distinguish between \"violent\" and \"non-violent\" samples.\n",
        "\n",
        "During training, the SVM classifier learns to discern patterns and features specific to each class based on the selected text embeddings. We then evaluate the performance of the SVM classifier on both the validation and test datasets, obtaining the validation accuracy (text_val_acc) and test accuracy (text_test_acc) as performance metrics. These accuracies represent how well the SVM classifier can classify videos into the \"violence\" and \"non-violence\" categories based on their text embeddings."
      ]
    },
    {
      "cell_type": "code",
      "execution_count": null,
      "metadata": {
        "colab": {
          "base_uri": "https://localhost:8080/"
        },
        "id": "nNfx4cCxH-tZ",
        "outputId": "d283c06c-f00c-486d-b650-2c89df55b6b8"
      },
      "outputs": [
        {
          "name": "stdout",
          "output_type": "stream",
          "text": [
            "Validation Accuracy: 0.7666666666666667\n",
            "Test Accuracy: 0.7666666666666667\n"
          ]
        }
      ],
      "source": [
        "tSVM = TRClassifier(*text_data, None, num_features=10, classifier=\"svm\", scaler=None)\n",
        "text_val_acc, text_test_acc = tSVM.run()"
      ]
    },
    {
      "cell_type": "markdown",
      "metadata": {
        "id": "9vWlfXczxrqX"
      },
      "source": [
        "The text classification model outperformed the audio classification model with slightly higher validation and test accuracies (0.7667) compared to the audio's (0.7). Text-based features showed to be a bit more informative in distinguishing between violent and non-violent videos in this dataset."
      ]
    },
    {
      "cell_type": "markdown",
      "metadata": {
        "id": "E0PIlESTyCxo"
      },
      "source": [
        "### **4.3. Image Classification Model**\n",
        "\n",
        "We implement the image classification using a Neural Network (NN) classifier. We create an instance of the NNClassifier class, providing it with the necessary inputs. The inputs include the image_data obtained from the MovieDataset, which contains the preprocessed image features and labels for training, validation, and testing. We set the number of training epochs to 20, the learning rate to 0.00001, and the weight decay to 0.05. The device parameter is specified as \"cuda\" if available, otherwise \"cpu\", indicating whether the computation should be done on the GPU or CPU.\n",
        "\n",
        "The NNClassifier class is designed to handle image classification tasks using a neural network architecture. During training, the neural network learns to extract features from the images and classify them into the \"violence\" and \"non-violence\" categories. After training, we evaluate the performance of the image classifier on both the validation and test datasets, obtaining the validation accuracy (image_val_acc) and the test accuracy (image_test_acc) as performance metrics. These accuracies reflect how well the neural network model can classify videos into different classes based on their image features."
      ]
    },
    {
      "cell_type": "code",
      "execution_count": null,
      "metadata": {
        "colab": {
          "base_uri": "https://localhost:8080/",
          "height": 1000
        },
        "id": "2Rzor3zuIADp",
        "outputId": "34df5428-f4eb-4630-b97d-8e6d38a24179"
      },
      "outputs": [
        {
          "name": "stderr",
          "output_type": "stream",
          "text": [
            "Downloading: \"https://download.pytorch.org/models/alexnet-owt-7be5be79.pth\" to /root/.cache/torch/hub/checkpoints/alexnet-owt-7be5be79.pth\n",
            "100%|██████████| 233M/233M [00:00<00:00, 245MB/s]\n",
            "Downloading: \"https://download.pytorch.org/models/squeezenet1_0-b66bff10.pth\" to /root/.cache/torch/hub/checkpoints/squeezenet1_0-b66bff10.pth\n",
            "100%|██████████| 4.78M/4.78M [00:00<00:00, 57.6MB/s]\n",
            "Training: 100%|██████████| 51/51 [14:25<00:00, 16.96s/it, Training Loss=0.656]\n",
            "Validating: 100%|██████████| 4/4 [02:06<00:00, 31.61s/it]\n"
          ]
        },
        {
          "name": "stdout",
          "output_type": "stream",
          "text": [
            "Epoch: 1, Validation Accuracy: 66.67 %, Validation Precision: 69.84 %, Validation Recall: 66.67 %, Validation F1-score: 65.28 %\n",
            "Model saved at epoch 1 with Validation Accuracy: 0.67%\n"
          ]
        },
        {
          "name": "stderr",
          "output_type": "stream",
          "text": [
            "Training: 100%|██████████| 51/51 [00:58<00:00,  1.16s/it, Training Loss=0.581]\n",
            "Validating: 100%|██████████| 4/4 [00:04<00:00,  1.23s/it]\n"
          ]
        },
        {
          "name": "stdout",
          "output_type": "stream",
          "text": [
            "Epoch: 2, Validation Accuracy: 73.33 %, Validation Precision: 73.76 %, Validation Recall: 73.33 %, Validation F1-score: 73.21 %\n",
            "Model saved at epoch 2 with Validation Accuracy: 0.73%\n"
          ]
        },
        {
          "name": "stderr",
          "output_type": "stream",
          "text": [
            "Training: 100%|██████████| 51/51 [00:58<00:00,  1.15s/it, Training Loss=0.526]\n",
            "Validating: 100%|██████████| 4/4 [00:04<00:00,  1.02s/it]\n"
          ]
        },
        {
          "name": "stdout",
          "output_type": "stream",
          "text": [
            "Epoch: 3, Validation Accuracy: 83.33 %, Validation Precision: 87.50 %, Validation Recall: 83.33 %, Validation F1-score: 82.86 %\n",
            "Model saved at epoch 3 with Validation Accuracy: 0.83%\n"
          ]
        },
        {
          "name": "stderr",
          "output_type": "stream",
          "text": [
            "Training: 100%|██████████| 51/51 [00:59<00:00,  1.17s/it, Training Loss=0.491]\n",
            "Validating: 100%|██████████| 4/4 [00:03<00:00,  1.04it/s]\n"
          ]
        },
        {
          "name": "stdout",
          "output_type": "stream",
          "text": [
            "Epoch: 4, Validation Accuracy: 73.33 %, Validation Precision: 82.61 %, Validation Recall: 73.33 %, Validation F1-score: 71.29 %\n"
          ]
        },
        {
          "name": "stderr",
          "output_type": "stream",
          "text": [
            "Training: 100%|██████████| 51/51 [00:59<00:00,  1.17s/it, Training Loss=0.452]\n",
            "Validating: 100%|██████████| 4/4 [00:04<00:00,  1.02s/it]\n"
          ]
        },
        {
          "name": "stdout",
          "output_type": "stream",
          "text": [
            "Epoch: 5, Validation Accuracy: 86.67 %, Validation Precision: 87.33 %, Validation Recall: 86.67 %, Validation F1-score: 86.61 %\n",
            "Model saved at epoch 5 with Validation Accuracy: 0.87%\n"
          ]
        },
        {
          "name": "stderr",
          "output_type": "stream",
          "text": [
            "Training: 100%|██████████| 51/51 [00:58<00:00,  1.16s/it, Training Loss=0.419]\n",
            "Validating: 100%|██████████| 4/4 [00:04<00:00,  1.04s/it]\n"
          ]
        },
        {
          "name": "stdout",
          "output_type": "stream",
          "text": [
            "Epoch: 6, Validation Accuracy: 90.00 %, Validation Precision: 91.67 %, Validation Recall: 90.00 %, Validation F1-score: 89.90 %\n",
            "Model saved at epoch 6 with Validation Accuracy: 0.90%\n"
          ]
        },
        {
          "name": "stderr",
          "output_type": "stream",
          "text": [
            "Training: 100%|██████████| 51/51 [00:58<00:00,  1.15s/it, Training Loss=0.398]\n",
            "Validating: 100%|██████████| 4/4 [00:05<00:00,  1.32s/it]\n"
          ]
        },
        {
          "name": "stdout",
          "output_type": "stream",
          "text": [
            "Epoch: 7, Validation Accuracy: 90.00 %, Validation Precision: 91.67 %, Validation Recall: 90.00 %, Validation F1-score: 89.90 %\n",
            "Model saved at epoch 7 with Validation Accuracy: 0.90%\n"
          ]
        },
        {
          "name": "stderr",
          "output_type": "stream",
          "text": [
            "Training: 100%|██████████| 51/51 [00:58<00:00,  1.15s/it, Training Loss=0.376]\n",
            "Validating: 100%|██████████| 4/4 [00:05<00:00,  1.33s/it]\n"
          ]
        },
        {
          "name": "stdout",
          "output_type": "stream",
          "text": [
            "Epoch: 8, Validation Accuracy: 90.00 %, Validation Precision: 91.67 %, Validation Recall: 90.00 %, Validation F1-score: 89.90 %\n",
            "Model saved at epoch 8 with Validation Accuracy: 0.90%\n"
          ]
        },
        {
          "name": "stderr",
          "output_type": "stream",
          "text": [
            "Training: 100%|██████████| 51/51 [00:58<00:00,  1.14s/it, Training Loss=0.360]\n",
            "Validating: 100%|██████████| 4/4 [00:05<00:00,  1.36s/it]\n"
          ]
        },
        {
          "name": "stdout",
          "output_type": "stream",
          "text": [
            "Epoch: 9, Validation Accuracy: 90.00 %, Validation Precision: 91.67 %, Validation Recall: 90.00 %, Validation F1-score: 89.90 %\n",
            "Model saved at epoch 9 with Validation Accuracy: 0.90%\n"
          ]
        },
        {
          "name": "stderr",
          "output_type": "stream",
          "text": [
            "Training: 100%|██████████| 51/51 [00:58<00:00,  1.14s/it, Training Loss=0.347]\n",
            "Validating: 100%|██████████| 4/4 [00:04<00:00,  1.05s/it]\n"
          ]
        },
        {
          "name": "stdout",
          "output_type": "stream",
          "text": [
            "Epoch: 10, Validation Accuracy: 90.00 %, Validation Precision: 91.67 %, Validation Recall: 90.00 %, Validation F1-score: 89.90 %\n",
            "Model saved at epoch 10 with Validation Accuracy: 0.90%\n"
          ]
        },
        {
          "name": "stderr",
          "output_type": "stream",
          "text": [
            "Training: 100%|██████████| 51/51 [00:59<00:00,  1.16s/it, Training Loss=0.340]\n",
            "Validating: 100%|██████████| 4/4 [00:04<00:00,  1.02s/it]\n"
          ]
        },
        {
          "name": "stdout",
          "output_type": "stream",
          "text": [
            "Epoch: 11, Validation Accuracy: 83.33 %, Validation Precision: 87.50 %, Validation Recall: 83.33 %, Validation F1-score: 82.86 %\n"
          ]
        },
        {
          "name": "stderr",
          "output_type": "stream",
          "text": [
            "Training: 100%|██████████| 51/51 [00:59<00:00,  1.18s/it, Training Loss=0.331]\n",
            "Validating: 100%|██████████| 4/4 [00:03<00:00,  1.00it/s]\n"
          ]
        },
        {
          "name": "stdout",
          "output_type": "stream",
          "text": [
            "Epoch: 12, Validation Accuracy: 83.33 %, Validation Precision: 87.50 %, Validation Recall: 83.33 %, Validation F1-score: 82.86 %\n"
          ]
        },
        {
          "name": "stderr",
          "output_type": "stream",
          "text": [
            "Training: 100%|██████████| 51/51 [01:00<00:00,  1.18s/it, Training Loss=0.334]\n",
            "Validating: 100%|██████████| 4/4 [00:03<00:00,  1.02it/s]\n"
          ]
        },
        {
          "name": "stdout",
          "output_type": "stream",
          "text": [
            "Epoch: 13, Validation Accuracy: 90.00 %, Validation Precision: 91.67 %, Validation Recall: 90.00 %, Validation F1-score: 89.90 %\n",
            "Model saved at epoch 13 with Validation Accuracy: 0.90%\n"
          ]
        },
        {
          "name": "stderr",
          "output_type": "stream",
          "text": [
            "Training: 100%|██████████| 51/51 [00:59<00:00,  1.16s/it, Training Loss=0.337]\n",
            "Validating: 100%|██████████| 4/4 [00:03<00:00,  1.01it/s]\n"
          ]
        },
        {
          "name": "stdout",
          "output_type": "stream",
          "text": [
            "Epoch: 14, Validation Accuracy: 96.67 %, Validation Precision: 96.88 %, Validation Recall: 96.67 %, Validation F1-score: 96.66 %\n",
            "Model saved at epoch 14 with Validation Accuracy: 0.97%\n"
          ]
        },
        {
          "name": "stderr",
          "output_type": "stream",
          "text": [
            "Training: 100%|██████████| 51/51 [00:58<00:00,  1.14s/it, Training Loss=0.326]\n",
            "Validating: 100%|██████████| 4/4 [00:05<00:00,  1.27s/it]\n"
          ]
        },
        {
          "name": "stdout",
          "output_type": "stream",
          "text": [
            "Epoch: 15, Validation Accuracy: 90.00 %, Validation Precision: 91.67 %, Validation Recall: 90.00 %, Validation F1-score: 89.90 %\n"
          ]
        },
        {
          "name": "stderr",
          "output_type": "stream",
          "text": [
            "Training: 100%|██████████| 51/51 [00:58<00:00,  1.14s/it, Training Loss=0.325]\n",
            "Validating: 100%|██████████| 4/4 [00:05<00:00,  1.38s/it]\n"
          ]
        },
        {
          "name": "stdout",
          "output_type": "stream",
          "text": [
            "Epoch: 16, Validation Accuracy: 80.00 %, Validation Precision: 85.71 %, Validation Recall: 80.00 %, Validation F1-score: 79.17 %\n"
          ]
        },
        {
          "name": "stderr",
          "output_type": "stream",
          "text": [
            "Training: 100%|██████████| 51/51 [00:58<00:00,  1.14s/it, Training Loss=0.323]\n",
            "Validating: 100%|██████████| 4/4 [00:04<00:00,  1.23s/it]\n"
          ]
        },
        {
          "name": "stdout",
          "output_type": "stream",
          "text": [
            "Epoch: 17, Validation Accuracy: 63.33 %, Validation Precision: 78.85 %, Validation Recall: 63.33 %, Validation F1-score: 57.64 %\n"
          ]
        },
        {
          "name": "stderr",
          "output_type": "stream",
          "text": [
            "Training: 100%|██████████| 51/51 [00:59<00:00,  1.16s/it, Training Loss=0.332]\n",
            "Validating: 100%|██████████| 4/4 [00:04<00:00,  1.02s/it]\n"
          ]
        },
        {
          "name": "stdout",
          "output_type": "stream",
          "text": [
            "Epoch: 18, Validation Accuracy: 86.67 %, Validation Precision: 89.47 %, Validation Recall: 86.67 %, Validation F1-score: 86.43 %\n"
          ]
        },
        {
          "name": "stderr",
          "output_type": "stream",
          "text": [
            "Training: 100%|██████████| 51/51 [01:00<00:00,  1.18s/it, Training Loss=0.321]\n",
            "Validating: 100%|██████████| 4/4 [00:03<00:00,  1.01it/s]\n"
          ]
        },
        {
          "name": "stdout",
          "output_type": "stream",
          "text": [
            "Epoch: 19, Validation Accuracy: 86.67 %, Validation Precision: 89.47 %, Validation Recall: 86.67 %, Validation F1-score: 86.43 %\n"
          ]
        },
        {
          "name": "stderr",
          "output_type": "stream",
          "text": [
            "Training: 100%|██████████| 51/51 [01:00<00:00,  1.19s/it, Training Loss=0.320]\n",
            "Validating: 100%|██████████| 4/4 [00:03<00:00,  1.01it/s]\n"
          ]
        },
        {
          "name": "stdout",
          "output_type": "stream",
          "text": [
            "Epoch: 20, Validation Accuracy: 93.33 %, Validation Precision: 94.12 %, Validation Recall: 93.33 %, Validation F1-score: 93.30 %\n"
          ]
        },
        {
          "data": {
            "image/png": "[encoded data removed]",
            "text/plain": [
              "<Figure size 1200x600 with 2 Axes>"
            ]
          },
          "metadata": {},
          "output_type": "display_data"
        },
        {
          "name": "stderr",
          "output_type": "stream",
          "text": [
            "Testing: 100%|██████████| 4/4 [02:08<00:00, 32.07s/it]"
          ]
        },
        {
          "name": "stdout",
          "output_type": "stream",
          "text": [
            "Test Accuracy: 76.67 %, Test Precision: 76.79 %, Test Recall: 76.67 %, Test F1-score: 76.64 %\n"
          ]
        },
        {
          "name": "stderr",
          "output_type": "stream",
          "text": [
            "\n"
          ]
        }
      ],
      "source": [
        "iNN = NNClassifier(*image_data, epochs=20, lr=0.00001, wd=0.05, device=device)\n",
        "image_val_acc, image_test_acc = iNN.run()"
      ]
    },
    {
      "cell_type": "markdown",
      "metadata": {
        "id": "2Pcw9-1SydvB"
      },
      "source": [
        "The image classification results show that the model achieved a test accuracy of 76.67%, which indicates that it can correctly classify approximately 76.67% of the test video samples into the correct categories (violent or non-violent) based on their image features. The training and validation curves also indicate that the model's performance improved during the training process, with the validation accuracy reaching as high as 96.67% at epoch 14. This suggests that the model is learning relevant patterns from the image data and generalizing well to unseen samples."
      ]
    },
    {
      "cell_type": "markdown",
      "metadata": {
        "id": "ngP0aL-py_3_"
      },
      "source": [
        "## **5. Perform Early Fusion Classification**\n",
        "\n",
        "In the Early Fusion approach, we aim to achieve multi-modal classification by combining the information from different modalities (audio, image, and text) at an early stage of the model architecture. To enable this fusion, we create an instance of the MultiMovieDataset class, passing the preprocessed audio_data, image_data, and text_data as inputs. This dataset is designed to handle multi-modal data and serves as an intermediate step to merge the features from different modalities.\n",
        "\n",
        "The MultiMovieDataset class organizes the data from each modality in a way that allows easy access during the fusion process. By creating this dataset, we prepare the necessary input for the multi-modal fusion step, facilitating the combination of information from audio, image, and text modalities into a unified model for the final classification.\n",
        "\n",
        "The fused data, stored in multi_data, consists of integrated features from all modalities, making it possible to train a unified classifier that leverages the strengths of each individual modality. This multi-modal fusion approach aims to improve overall performance and enhance the model's ability to classify videos into \"violence\" and \"non-violence\" categories based on features extracted from multiple sources."
      ]
    },
    {
      "cell_type": "code",
      "execution_count": null,
      "metadata": {
        "id": "DqrDeYhjIBiB"
      },
      "outputs": [],
      "source": [
        "mds = MultiMovieDataset(audio_data, image_data, text_data, exists=False)\n",
        "multi_data = mds.prepare_multidata()"
      ]
    },
    {
      "cell_type": "markdown",
      "metadata": {
        "id": "wn5uw-MHuFBN"
      },
      "source": [
        "We perform multi-modal classification using a Neural Network (NN) classifier. To achieve this, we create an instance of the MNNClassifier class, providing it with the necessary inputs from multi_data. The multi_data contains preprocessed data that combines features from all modalities (audio, image, and text) to enable multi-modal fusion. The MNNClassifier class is specifically designed to handle multi-modal classification tasks using a neural network architecture. During training, the neural network learns to extract informative patterns and features from the integrated data, allowing it to classify videos into the \"violence\" and \"non-violence\" categories based on the combined information from audio, image, and text.\n",
        "\n",
        "We configure the NN classifier with specific hyperparameters for training. The number of training epochs is set to 25, indicating the number of times the model will see the entire training dataset during training. The learning rate is set to 0.00001, controlling the step size at each iteration during optimization, and the weight decay is set to 0.0, which helps control overfitting. The device parameter is specified as \"cuda\" if a compatible GPU is available for computation, otherwise it will use \"cpu\". This choice allows us to utilize the power of GPU acceleration for faster training if possible.\n",
        "\n",
        "After training the multi-modal neural network classifier, we evaluate its performance on the test dataset to obtain the test accuracy (multi_test_acc). This accuracy metric reflects how well the integrated model can classify videos into different classes based on the combined features from all modalities, showcasing the effectiveness of the multi-modal fusion approach."
      ]
    },
    {
      "cell_type": "code",
      "execution_count": null,
      "metadata": {
        "colab": {
          "base_uri": "https://localhost:8080/",
          "height": 1000
        },
        "id": "fhY6lo4LIKLT",
        "outputId": "bb0ee02b-5fab-4873-bbf9-411101c815dc"
      },
      "outputs": [
        {
          "name": "stderr",
          "output_type": "stream",
          "text": [
            "Training epoch 1: 100%|██████████| 51/51 [00:59<00:00,  1.16s/it]"
          ]
        },
        {
          "name": "stdout",
          "output_type": "stream",
          "text": [
            "Train Loss: 0.690027, Accuracy: 57.35%\n"
          ]
        },
        {
          "name": "stderr",
          "output_type": "stream",
          "text": [
            "\n"
          ]
        },
        {
          "name": "stdout",
          "output_type": "stream",
          "text": [
            "Val Loss: 0.683370, Accuracy: 66.67%\n",
            "Model saved at epoch 1 with Accuracy: 66.67%\n"
          ]
        },
        {
          "name": "stderr",
          "output_type": "stream",
          "text": [
            "Training epoch 2: 100%|██████████| 51/51 [00:59<00:00,  1.16s/it]"
          ]
        },
        {
          "name": "stdout",
          "output_type": "stream",
          "text": [
            "Train Loss: 0.672118, Accuracy: 70.83%\n"
          ]
        },
        {
          "name": "stderr",
          "output_type": "stream",
          "text": [
            "\n"
          ]
        },
        {
          "name": "stdout",
          "output_type": "stream",
          "text": [
            "Val Loss: 0.657513, Accuracy: 70.00%\n",
            "Model saved at epoch 2 with Accuracy: 70.00%\n"
          ]
        },
        {
          "name": "stderr",
          "output_type": "stream",
          "text": [
            "Training epoch 3: 100%|██████████| 51/51 [00:59<00:00,  1.16s/it]"
          ]
        },
        {
          "name": "stdout",
          "output_type": "stream",
          "text": [
            "Train Loss: 0.640520, Accuracy: 74.02%\n"
          ]
        },
        {
          "name": "stderr",
          "output_type": "stream",
          "text": [
            "\n"
          ]
        },
        {
          "name": "stdout",
          "output_type": "stream",
          "text": [
            "Val Loss: 0.642442, Accuracy: 66.67%\n"
          ]
        },
        {
          "name": "stderr",
          "output_type": "stream",
          "text": [
            "Training epoch 4: 100%|██████████| 51/51 [01:00<00:00,  1.19s/it]"
          ]
        },
        {
          "name": "stdout",
          "output_type": "stream",
          "text": [
            "Train Loss: 0.606680, Accuracy: 77.94%\n"
          ]
        },
        {
          "name": "stderr",
          "output_type": "stream",
          "text": [
            "\n"
          ]
        },
        {
          "name": "stdout",
          "output_type": "stream",
          "text": [
            "Val Loss: 0.616670, Accuracy: 73.33%\n",
            "Model saved at epoch 4 with Accuracy: 73.33%\n"
          ]
        },
        {
          "name": "stderr",
          "output_type": "stream",
          "text": [
            "Training epoch 5: 100%|██████████| 51/51 [01:00<00:00,  1.18s/it]"
          ]
        },
        {
          "name": "stdout",
          "output_type": "stream",
          "text": [
            "Train Loss: 0.583895, Accuracy: 77.70%\n"
          ]
        },
        {
          "name": "stderr",
          "output_type": "stream",
          "text": [
            "\n"
          ]
        },
        {
          "name": "stdout",
          "output_type": "stream",
          "text": [
            "Val Loss: 0.582106, Accuracy: 70.00%\n"
          ]
        },
        {
          "name": "stderr",
          "output_type": "stream",
          "text": [
            "Training epoch 6: 100%|██████████| 51/51 [01:00<00:00,  1.19s/it]"
          ]
        },
        {
          "name": "stdout",
          "output_type": "stream",
          "text": [
            "Train Loss: 0.549627, Accuracy: 82.35%\n"
          ]
        },
        {
          "name": "stderr",
          "output_type": "stream",
          "text": [
            "\n"
          ]
        },
        {
          "name": "stdout",
          "output_type": "stream",
          "text": [
            "Val Loss: 0.588061, Accuracy: 70.00%\n"
          ]
        },
        {
          "name": "stderr",
          "output_type": "stream",
          "text": [
            "Training epoch 7: 100%|██████████| 51/51 [01:00<00:00,  1.19s/it]"
          ]
        },
        {
          "name": "stdout",
          "output_type": "stream",
          "text": [
            "Train Loss: 0.534438, Accuracy: 81.13%\n"
          ]
        },
        {
          "name": "stderr",
          "output_type": "stream",
          "text": [
            "\n"
          ]
        },
        {
          "name": "stdout",
          "output_type": "stream",
          "text": [
            "Val Loss: 0.572460, Accuracy: 76.67%\n",
            "Model saved at epoch 7 with Accuracy: 76.67%\n"
          ]
        },
        {
          "name": "stderr",
          "output_type": "stream",
          "text": [
            "Training epoch 8: 100%|██████████| 51/51 [01:00<00:00,  1.19s/it]"
          ]
        },
        {
          "name": "stdout",
          "output_type": "stream",
          "text": [
            "Train Loss: 0.506744, Accuracy: 85.05%\n"
          ]
        },
        {
          "name": "stderr",
          "output_type": "stream",
          "text": [
            "\n"
          ]
        },
        {
          "name": "stdout",
          "output_type": "stream",
          "text": [
            "Val Loss: 0.563898, Accuracy: 76.67%\n",
            "Model saved at epoch 8 with Accuracy: 76.67%\n"
          ]
        },
        {
          "name": "stderr",
          "output_type": "stream",
          "text": [
            "Training epoch 9: 100%|██████████| 51/51 [01:01<00:00,  1.20s/it]"
          ]
        },
        {
          "name": "stdout",
          "output_type": "stream",
          "text": [
            "Train Loss: 0.483139, Accuracy: 85.78%\n"
          ]
        },
        {
          "name": "stderr",
          "output_type": "stream",
          "text": [
            "\n"
          ]
        },
        {
          "name": "stdout",
          "output_type": "stream",
          "text": [
            "Val Loss: 0.548627, Accuracy: 76.67%\n",
            "Model saved at epoch 9 with Accuracy: 76.67%\n"
          ]
        },
        {
          "name": "stderr",
          "output_type": "stream",
          "text": [
            "Training epoch 10: 100%|██████████| 51/51 [00:59<00:00,  1.17s/it]"
          ]
        },
        {
          "name": "stdout",
          "output_type": "stream",
          "text": [
            "Train Loss: 0.470318, Accuracy: 86.76%\n"
          ]
        },
        {
          "name": "stderr",
          "output_type": "stream",
          "text": [
            "\n"
          ]
        },
        {
          "name": "stdout",
          "output_type": "stream",
          "text": [
            "Val Loss: 0.616755, Accuracy: 66.67%\n"
          ]
        },
        {
          "name": "stderr",
          "output_type": "stream",
          "text": [
            "Training epoch 11: 100%|██████████| 51/51 [00:58<00:00,  1.14s/it]"
          ]
        },
        {
          "name": "stdout",
          "output_type": "stream",
          "text": [
            "Train Loss: 0.447932, Accuracy: 88.48%\n"
          ]
        },
        {
          "name": "stderr",
          "output_type": "stream",
          "text": [
            "\n"
          ]
        },
        {
          "name": "stdout",
          "output_type": "stream",
          "text": [
            "Val Loss: 0.531764, Accuracy: 83.33%\n",
            "Model saved at epoch 11 with Accuracy: 83.33%\n"
          ]
        },
        {
          "name": "stderr",
          "output_type": "stream",
          "text": [
            "Training epoch 12: 100%|██████████| 51/51 [00:59<00:00,  1.16s/it]"
          ]
        },
        {
          "name": "stdout",
          "output_type": "stream",
          "text": [
            "Train Loss: 0.428357, Accuracy: 91.91%\n"
          ]
        },
        {
          "name": "stderr",
          "output_type": "stream",
          "text": [
            "\n"
          ]
        },
        {
          "name": "stdout",
          "output_type": "stream",
          "text": [
            "Val Loss: 0.548562, Accuracy: 80.00%\n"
          ]
        },
        {
          "name": "stderr",
          "output_type": "stream",
          "text": [
            "Training epoch 13: 100%|██████████| 51/51 [00:59<00:00,  1.16s/it]"
          ]
        },
        {
          "name": "stdout",
          "output_type": "stream",
          "text": [
            "Train Loss: 0.415021, Accuracy: 93.38%\n"
          ]
        },
        {
          "name": "stderr",
          "output_type": "stream",
          "text": [
            "\n"
          ]
        },
        {
          "name": "stdout",
          "output_type": "stream",
          "text": [
            "Val Loss: 0.542584, Accuracy: 73.33%\n"
          ]
        },
        {
          "name": "stderr",
          "output_type": "stream",
          "text": [
            "Training epoch 14: 100%|██████████| 51/51 [00:58<00:00,  1.15s/it]"
          ]
        },
        {
          "name": "stdout",
          "output_type": "stream",
          "text": [
            "Train Loss: 0.403207, Accuracy: 93.38%\n"
          ]
        },
        {
          "name": "stderr",
          "output_type": "stream",
          "text": [
            "\n"
          ]
        },
        {
          "name": "stdout",
          "output_type": "stream",
          "text": [
            "Val Loss: 0.538037, Accuracy: 80.00%\n"
          ]
        },
        {
          "name": "stderr",
          "output_type": "stream",
          "text": [
            "Training epoch 15: 100%|██████████| 51/51 [00:59<00:00,  1.16s/it]"
          ]
        },
        {
          "name": "stdout",
          "output_type": "stream",
          "text": [
            "Train Loss: 0.385291, Accuracy: 95.34%\n"
          ]
        },
        {
          "name": "stderr",
          "output_type": "stream",
          "text": [
            "\n"
          ]
        },
        {
          "name": "stdout",
          "output_type": "stream",
          "text": [
            "Val Loss: 0.555899, Accuracy: 83.33%\n",
            "Model saved at epoch 15 with Accuracy: 83.33%\n"
          ]
        },
        {
          "name": "stderr",
          "output_type": "stream",
          "text": [
            "Training epoch 16: 100%|██████████| 51/51 [00:58<00:00,  1.15s/it]"
          ]
        },
        {
          "name": "stdout",
          "output_type": "stream",
          "text": [
            "Train Loss: 0.371287, Accuracy: 97.06%\n"
          ]
        },
        {
          "name": "stderr",
          "output_type": "stream",
          "text": [
            "\n"
          ]
        },
        {
          "name": "stdout",
          "output_type": "stream",
          "text": [
            "Val Loss: 0.606174, Accuracy: 66.67%\n"
          ]
        },
        {
          "name": "stderr",
          "output_type": "stream",
          "text": [
            "Training epoch 17: 100%|██████████| 51/51 [00:59<00:00,  1.17s/it]"
          ]
        },
        {
          "name": "stdout",
          "output_type": "stream",
          "text": [
            "Train Loss: 0.362309, Accuracy: 97.06%\n"
          ]
        },
        {
          "name": "stderr",
          "output_type": "stream",
          "text": [
            "\n"
          ]
        },
        {
          "name": "stdout",
          "output_type": "stream",
          "text": [
            "Val Loss: 0.527490, Accuracy: 76.67%\n"
          ]
        },
        {
          "name": "stderr",
          "output_type": "stream",
          "text": [
            "Training epoch 18: 100%|██████████| 51/51 [00:59<00:00,  1.17s/it]"
          ]
        },
        {
          "name": "stdout",
          "output_type": "stream",
          "text": [
            "Train Loss: 0.353949, Accuracy: 97.55%\n"
          ]
        },
        {
          "name": "stderr",
          "output_type": "stream",
          "text": [
            "\n"
          ]
        },
        {
          "name": "stdout",
          "output_type": "stream",
          "text": [
            "Val Loss: 0.808709, Accuracy: 50.00%\n"
          ]
        },
        {
          "name": "stderr",
          "output_type": "stream",
          "text": [
            "Training epoch 19: 100%|██████████| 51/51 [01:00<00:00,  1.19s/it]"
          ]
        },
        {
          "name": "stdout",
          "output_type": "stream",
          "text": [
            "Train Loss: 0.366601, Accuracy: 95.34%\n"
          ]
        },
        {
          "name": "stderr",
          "output_type": "stream",
          "text": [
            "\n"
          ]
        },
        {
          "name": "stdout",
          "output_type": "stream",
          "text": [
            "Val Loss: 0.516161, Accuracy: 76.67%\n"
          ]
        },
        {
          "name": "stderr",
          "output_type": "stream",
          "text": [
            "Training epoch 20: 100%|██████████| 51/51 [01:01<00:00,  1.20s/it]"
          ]
        },
        {
          "name": "stdout",
          "output_type": "stream",
          "text": [
            "Train Loss: 0.352019, Accuracy: 97.06%\n"
          ]
        },
        {
          "name": "stderr",
          "output_type": "stream",
          "text": [
            "\n"
          ]
        },
        {
          "name": "stdout",
          "output_type": "stream",
          "text": [
            "Val Loss: 0.477863, Accuracy: 83.33%\n",
            "Model saved at epoch 20 with Accuracy: 83.33%\n"
          ]
        },
        {
          "name": "stderr",
          "output_type": "stream",
          "text": [
            "Training epoch 21: 100%|██████████| 51/51 [01:00<00:00,  1.20s/it]"
          ]
        },
        {
          "name": "stdout",
          "output_type": "stream",
          "text": [
            "Train Loss: 0.333799, Accuracy: 98.77%\n"
          ]
        },
        {
          "name": "stderr",
          "output_type": "stream",
          "text": [
            "\n"
          ]
        },
        {
          "name": "stdout",
          "output_type": "stream",
          "text": [
            "Val Loss: 0.510068, Accuracy: 80.00%\n"
          ]
        },
        {
          "name": "stderr",
          "output_type": "stream",
          "text": [
            "Training epoch 22: 100%|██████████| 51/51 [01:00<00:00,  1.19s/it]"
          ]
        },
        {
          "name": "stdout",
          "output_type": "stream",
          "text": [
            "Train Loss: 0.328858, Accuracy: 99.02%\n"
          ]
        },
        {
          "name": "stderr",
          "output_type": "stream",
          "text": [
            "\n"
          ]
        },
        {
          "name": "stdout",
          "output_type": "stream",
          "text": [
            "Val Loss: 0.470641, Accuracy: 83.33%\n",
            "Model saved at epoch 22 with Accuracy: 83.33%\n"
          ]
        },
        {
          "name": "stderr",
          "output_type": "stream",
          "text": [
            "Training epoch 23: 100%|██████████| 51/51 [01:00<00:00,  1.19s/it]"
          ]
        },
        {
          "name": "stdout",
          "output_type": "stream",
          "text": [
            "Train Loss: 0.327786, Accuracy: 99.02%\n"
          ]
        },
        {
          "name": "stderr",
          "output_type": "stream",
          "text": [
            "\n"
          ]
        },
        {
          "name": "stdout",
          "output_type": "stream",
          "text": [
            "Val Loss: 0.494641, Accuracy: 80.00%\n"
          ]
        },
        {
          "name": "stderr",
          "output_type": "stream",
          "text": [
            "Training epoch 24: 100%|██████████| 51/51 [00:59<00:00,  1.17s/it]"
          ]
        },
        {
          "name": "stdout",
          "output_type": "stream",
          "text": [
            "Train Loss: 0.326600, Accuracy: 99.02%\n"
          ]
        },
        {
          "name": "stderr",
          "output_type": "stream",
          "text": [
            "\n"
          ]
        },
        {
          "name": "stdout",
          "output_type": "stream",
          "text": [
            "Val Loss: 0.477802, Accuracy: 80.00%\n"
          ]
        },
        {
          "name": "stderr",
          "output_type": "stream",
          "text": [
            "Training epoch 25: 100%|██████████| 51/51 [00:59<00:00,  1.17s/it]"
          ]
        },
        {
          "name": "stdout",
          "output_type": "stream",
          "text": [
            "Train Loss: 0.325655, Accuracy: 99.02%\n"
          ]
        },
        {
          "name": "stderr",
          "output_type": "stream",
          "text": [
            "\n"
          ]
        },
        {
          "name": "stdout",
          "output_type": "stream",
          "text": [
            "Val Loss: 0.475625, Accuracy: 80.00%\n"
          ]
        },
        {
          "data": {
            "image/png": "[encoded data removed]",
            "text/plain": [
              "<Figure size 1200x600 with 2 Axes>"
            ]
          },
          "metadata": {},
          "output_type": "display_data"
        },
        {
          "name": "stderr",
          "output_type": "stream",
          "text": [
            "Testing: 100%|██████████| 4/4 [00:04<00:00,  1.02s/it]"
          ]
        },
        {
          "name": "stdout",
          "output_type": "stream",
          "text": [
            "Test Accuracy: 80.00 %, Test Precision: 80.54 %, Test Recall: 80.00 %, Test F1-score: 79.91 %\n"
          ]
        },
        {
          "name": "stderr",
          "output_type": "stream",
          "text": [
            "\n"
          ]
        }
      ],
      "source": [
        "mdMNN = MNNClassifier(*multi_data, epochs=25, lr=0.00001, wd=0.0, device=device)\n",
        "multi_test_acc = mdMNN.run()"
      ]
    },
    {
      "cell_type": "markdown",
      "metadata": {
        "id": "3WD_OIltu-Du"
      },
      "source": [
        "The multimodal classification model, combining audio, image, and text data, achieved a test accuracy of 80.00%. This indicates that the model can accurately classify approximately 80.00% of the test video samples into the correct categories (violent or non-violent) based on their features from different modalities. The model's performance improved during training, reaching a high validation accuracy of 83.33% at epoch 11. The results indicate effective classification and good generalization to unseen data."
      ]
    },
    {
      "cell_type": "markdown",
      "metadata": {
        "id": "2s9JHgz62GJR"
      },
      "source": [
        "## **6. Calculate and Compare Accuracies**\n",
        "\n",
        "We first calculate the late fusion accuracy, which takes into account the performance of each classifier on the best-performing validation dataset. We use the late_fuse function to compute this accuracy. This function receives two tuples as input: the first tuple contains the validation accuracies for each modality (audio, text, and image), while the second tuple contains the corresponding test accuracies for each modality. The late fusion accuracy is determined by weighting each test accuracy with its corresponding validation accuracy and then summing them up.\n",
        "\n",
        "After calculating the late fusion accuracy, we print it to the console in percentage format with two decimal places. Similarly, we print the early fusion accuracy, which represents the performance of the multimodal classifier when all modalities' features are combined together before training and classification. By comparing these fusion accuracies, we can evaluate the benefits of combining multiple modalities in the classification task and assess the effectiveness of our multimodal approach."
      ]
    },
    {
      "cell_type": "code",
      "execution_count": null,
      "metadata": {
        "colab": {
          "base_uri": "https://localhost:8080/"
        },
        "id": "uDRCMHhKILsj",
        "outputId": "d1ae7ed1-8437-409c-9480-d38e8c472db7"
      },
      "outputs": [
        {
          "name": "stdout",
          "output_type": "stream",
          "text": [
            "Late Fusion Accuracy: 0.75 %\n",
            "Early Fusion Accuracy: 0.80 %\n"
          ]
        }
      ],
      "source": [
        "late_fusion_acc = late_fuse((audio_val_acc, text_val_acc, image_val_acc), (audio_test_acc, text_test_acc, image_test_acc))\n",
        "print(\"Late Fusion Accuracy: {:.2f} %\".format(late_fusion_acc))\n",
        "print(\"Early Fusion Accuracy: {:.2f} %\".format(multi_test_acc))"
      ]
    },
    {
      "cell_type": "markdown",
      "metadata": {
        "id": "GsDUcv8f4nTi"
      },
      "source": [
        "The Early Fusion method achieves a higher accuracy (0.80%) compared to the Late Fusion method (0.75%) in combining multiple modalities for classification. This suggests that fusing the modalities early, by combining their features before training, leads to better performance in this scenario."
      ]
    }
  ],
  "metadata": {
    "accelerator": "GPU",
    "colab": {
      "gpuType": "T4",
      "provenance": []
    },
    "kernelspec": {
      "display_name": "Python 3",
      "name": "python3"
    },
    "language_info": {
      "name": "python"
    },
    "widgets": {
      "application/vnd.jupyter.widget-state+json": {
        "04ed2268e943431894fc1e9d4a5e3029": {
          "model_module": "@jupyter-widgets/controls",
          "model_module_version": "1.5.0",
          "model_name": "DescriptionStyleModel",
          "state": {
            "_model_module": "@jupyter-widgets/controls",
            "_model_module_version": "1.5.0",
            "_model_name": "DescriptionStyleModel",
            "_view_count": null,
            "_view_module": "@jupyter-widgets/base",
            "_view_module_version": "1.2.0",
            "_view_name": "StyleView",
            "description_width": ""
          }
        },
        "10d0e9d62a154e78b766c09fabbdd476": {
          "model_module": "@jupyter-widgets/controls",
          "model_module_version": "1.5.0",
          "model_name": "FloatProgressModel",
          "state": {
            "_dom_classes": [],
            "_model_module": "@jupyter-widgets/controls",
            "_model_module_version": "1.5.0",
            "_model_name": "FloatProgressModel",
            "_view_count": null,
            "_view_module": "@jupyter-widgets/controls",
            "_view_module_version": "1.5.0",
            "_view_name": "ProgressView",
            "bar_style": "success",
            "description": "",
            "description_tooltip": null,
            "layout": "IPY_MODEL_97e86262e6c24a1ab2364ac5dd8d92e2",
            "max": 231508,
            "min": 0,
            "orientation": "horizontal",
            "style": "IPY_MODEL_3d32732a85c64bd79cb439f99db22fc5",
            "value": 231508
          }
        },
        "1512cfe4979b441f9926d7c3fc41191e": {
          "model_module": "@jupyter-widgets/controls",
          "model_module_version": "1.5.0",
          "model_name": "FloatProgressModel",
          "state": {
            "_dom_classes": [],
            "_model_module": "@jupyter-widgets/controls",
            "_model_module_version": "1.5.0",
            "_model_name": "FloatProgressModel",
            "_view_count": null,
            "_view_module": "@jupyter-widgets/controls",
            "_view_module_version": "1.5.0",
            "_view_name": "ProgressView",
            "bar_style": "success",
            "description": "",
            "description_tooltip": null,
            "layout": "IPY_MODEL_9b673de436114c0b801397614b19591d",
            "max": 267954768,
            "min": 0,
            "orientation": "horizontal",
            "style": "IPY_MODEL_1a2afa30a5974cf493eeb107b60a2963",
            "value": 267954768
          }
        },
        "1a2afa30a5974cf493eeb107b60a2963": {
          "model_module": "@jupyter-widgets/controls",
          "model_module_version": "1.5.0",
          "model_name": "ProgressStyleModel",
          "state": {
            "_model_module": "@jupyter-widgets/controls",
            "_model_module_version": "1.5.0",
            "_model_name": "ProgressStyleModel",
            "_view_count": null,
            "_view_module": "@jupyter-widgets/base",
            "_view_module_version": "1.2.0",
            "_view_name": "StyleView",
            "bar_color": null,
            "description_width": ""
          }
        },
        "1bc8748bd6304e96ac9b6cd27c3af0cb": {
          "model_module": "@jupyter-widgets/base",
          "model_module_version": "1.2.0",
          "model_name": "LayoutModel",
          "state": {
            "_model_module": "@jupyter-widgets/base",
            "_model_module_version": "1.2.0",
            "_model_name": "LayoutModel",
            "_view_count": null,
            "_view_module": "@jupyter-widgets/base",
            "_view_module_version": "1.2.0",
            "_view_name": "LayoutView",
            "align_content": null,
            "align_items": null,
            "align_self": null,
            "border": null,
            "bottom": null,
            "display": null,
            "flex": null,
            "flex_flow": null,
            "grid_area": null,
            "grid_auto_columns": null,
            "grid_auto_flow": null,
            "grid_auto_rows": null,
            "grid_column": null,
            "grid_gap": null,
            "grid_row": null,
            "grid_template_areas": null,
            "grid_template_columns": null,
            "grid_template_rows": null,
            "height": null,
            "justify_content": null,
            "justify_items": null,
            "left": null,
            "margin": null,
            "max_height": null,
            "max_width": null,
            "min_height": null,
            "min_width": null,
            "object_fit": null,
            "object_position": null,
            "order": null,
            "overflow": null,
            "overflow_x": null,
            "overflow_y": null,
            "padding": null,
            "right": null,
            "top": null,
            "visibility": null,
            "width": null
          }
        },
        "1d29ed643f0144b7aaba052331ef3f5e": {
          "model_module": "@jupyter-widgets/controls",
          "model_module_version": "1.5.0",
          "model_name": "ProgressStyleModel",
          "state": {
            "_model_module": "@jupyter-widgets/controls",
            "_model_module_version": "1.5.0",
            "_model_name": "ProgressStyleModel",
            "_view_count": null,
            "_view_module": "@jupyter-widgets/base",
            "_view_module_version": "1.2.0",
            "_view_name": "StyleView",
            "bar_color": null,
            "description_width": ""
          }
        },
        "1f01888cbc874086acc823be366520f2": {
          "model_module": "@jupyter-widgets/controls",
          "model_module_version": "1.5.0",
          "model_name": "DescriptionStyleModel",
          "state": {
            "_model_module": "@jupyter-widgets/controls",
            "_model_module_version": "1.5.0",
            "_model_name": "DescriptionStyleModel",
            "_view_count": null,
            "_view_module": "@jupyter-widgets/base",
            "_view_module_version": "1.2.0",
            "_view_name": "StyleView",
            "description_width": ""
          }
        },
        "20c122f9e7434a5399922725725cd33c": {
          "model_module": "@jupyter-widgets/controls",
          "model_module_version": "1.5.0",
          "model_name": "HTMLModel",
          "state": {
            "_dom_classes": [],
            "_model_module": "@jupyter-widgets/controls",
            "_model_module_version": "1.5.0",
            "_model_name": "HTMLModel",
            "_view_count": null,
            "_view_module": "@jupyter-widgets/controls",
            "_view_module_version": "1.5.0",
            "_view_name": "HTMLView",
            "description": "",
            "description_tooltip": null,
            "layout": "IPY_MODEL_39d20dafed6240029c4215db2ef4a472",
            "placeholder": "​",
            "style": "IPY_MODEL_b9b5a3e0de3a464eb68006469c35fd04",
            "value": " 232k/232k [00:00&lt;00:00, 1.09MB/s]"
          }
        },
        "226da969b8aa4677bda2866eeca4ba2d": {
          "model_module": "@jupyter-widgets/base",
          "model_module_version": "1.2.0",
          "model_name": "LayoutModel",
          "state": {
            "_model_module": "@jupyter-widgets/base",
            "_model_module_version": "1.2.0",
            "_model_name": "LayoutModel",
            "_view_count": null,
            "_view_module": "@jupyter-widgets/base",
            "_view_module_version": "1.2.0",
            "_view_name": "LayoutView",
            "align_content": null,
            "align_items": null,
            "align_self": null,
            "border": null,
            "bottom": null,
            "display": null,
            "flex": null,
            "flex_flow": null,
            "grid_area": null,
            "grid_auto_columns": null,
            "grid_auto_flow": null,
            "grid_auto_rows": null,
            "grid_column": null,
            "grid_gap": null,
            "grid_row": null,
            "grid_template_areas": null,
            "grid_template_columns": null,
            "grid_template_rows": null,
            "height": null,
            "justify_content": null,
            "justify_items": null,
            "left": null,
            "margin": null,
            "max_height": null,
            "max_width": null,
            "min_height": null,
            "min_width": null,
            "object_fit": null,
            "object_position": null,
            "order": null,
            "overflow": null,
            "overflow_x": null,
            "overflow_y": null,
            "padding": null,
            "right": null,
            "top": null,
            "visibility": null,
            "width": null
          }
        },
        "29b5cc2530cc4ffe9e5242f35831c16d": {
          "model_module": "@jupyter-widgets/controls",
          "model_module_version": "1.5.0",
          "model_name": "HBoxModel",
          "state": {
            "_dom_classes": [],
            "_model_module": "@jupyter-widgets/controls",
            "_model_module_version": "1.5.0",
            "_model_name": "HBoxModel",
            "_view_count": null,
            "_view_module": "@jupyter-widgets/controls",
            "_view_module_version": "1.5.0",
            "_view_name": "HBoxView",
            "box_style": "",
            "children": [
              "IPY_MODEL_d1780f67797c44f3949fe0812422d2a6",
              "IPY_MODEL_358856a1cab349169a6844c6c0b640bf",
              "IPY_MODEL_384190a65b3d4028a2c329689920dc0d"
            ],
            "layout": "IPY_MODEL_70113961f03c4db9947b7b8f1cbcd150"
          }
        },
        "358856a1cab349169a6844c6c0b640bf": {
          "model_module": "@jupyter-widgets/controls",
          "model_module_version": "1.5.0",
          "model_name": "FloatProgressModel",
          "state": {
            "_dom_classes": [],
            "_model_module": "@jupyter-widgets/controls",
            "_model_module_version": "1.5.0",
            "_model_name": "FloatProgressModel",
            "_view_count": null,
            "_view_module": "@jupyter-widgets/controls",
            "_view_module_version": "1.5.0",
            "_view_name": "ProgressView",
            "bar_style": "success",
            "description": "",
            "description_tooltip": null,
            "layout": "IPY_MODEL_de4007fdcd6a45418c157dbcb9ea593d",
            "max": 483,
            "min": 0,
            "orientation": "horizontal",
            "style": "IPY_MODEL_1d29ed643f0144b7aaba052331ef3f5e",
            "value": 483
          }
        },
        "3601866e7c1545c793aee99030b3eeb7": {
          "model_module": "@jupyter-widgets/base",
          "model_module_version": "1.2.0",
          "model_name": "LayoutModel",
          "state": {
            "_model_module": "@jupyter-widgets/base",
            "_model_module_version": "1.2.0",
            "_model_name": "LayoutModel",
            "_view_count": null,
            "_view_module": "@jupyter-widgets/base",
            "_view_module_version": "1.2.0",
            "_view_name": "LayoutView",
            "align_content": null,
            "align_items": null,
            "align_self": null,
            "border": null,
            "bottom": null,
            "display": null,
            "flex": null,
            "flex_flow": null,
            "grid_area": null,
            "grid_auto_columns": null,
            "grid_auto_flow": null,
            "grid_auto_rows": null,
            "grid_column": null,
            "grid_gap": null,
            "grid_row": null,
            "grid_template_areas": null,
            "grid_template_columns": null,
            "grid_template_rows": null,
            "height": null,
            "justify_content": null,
            "justify_items": null,
            "left": null,
            "margin": null,
            "max_height": null,
            "max_width": null,
            "min_height": null,
            "min_width": null,
            "object_fit": null,
            "object_position": null,
            "order": null,
            "overflow": null,
            "overflow_x": null,
            "overflow_y": null,
            "padding": null,
            "right": null,
            "top": null,
            "visibility": null,
            "width": null
          }
        },
        "384190a65b3d4028a2c329689920dc0d": {
          "model_module": "@jupyter-widgets/controls",
          "model_module_version": "1.5.0",
          "model_name": "HTMLModel",
          "state": {
            "_dom_classes": [],
            "_model_module": "@jupyter-widgets/controls",
            "_model_module_version": "1.5.0",
            "_model_name": "HTMLModel",
            "_view_count": null,
            "_view_module": "@jupyter-widgets/controls",
            "_view_module_version": "1.5.0",
            "_view_name": "HTMLView",
            "description": "",
            "description_tooltip": null,
            "layout": "IPY_MODEL_226da969b8aa4677bda2866eeca4ba2d",
            "placeholder": "​",
            "style": "IPY_MODEL_5b0310ab176a45a7b7e7b5d52663e844",
            "value": " 483/483 [00:00&lt;00:00, 35.5kB/s]"
          }
        },
        "39d20dafed6240029c4215db2ef4a472": {
          "model_module": "@jupyter-widgets/base",
          "model_module_version": "1.2.0",
          "model_name": "LayoutModel",
          "state": {
            "_model_module": "@jupyter-widgets/base",
            "_model_module_version": "1.2.0",
            "_model_name": "LayoutModel",
            "_view_count": null,
            "_view_module": "@jupyter-widgets/base",
            "_view_module_version": "1.2.0",
            "_view_name": "LayoutView",
            "align_content": null,
            "align_items": null,
            "align_self": null,
            "border": null,
            "bottom": null,
            "display": null,
            "flex": null,
            "flex_flow": null,
            "grid_area": null,
            "grid_auto_columns": null,
            "grid_auto_flow": null,
            "grid_auto_rows": null,
            "grid_column": null,
            "grid_gap": null,
            "grid_row": null,
            "grid_template_areas": null,
            "grid_template_columns": null,
            "grid_template_rows": null,
            "height": null,
            "justify_content": null,
            "justify_items": null,
            "left": null,
            "margin": null,
            "max_height": null,
            "max_width": null,
            "min_height": null,
            "min_width": null,
            "object_fit": null,
            "object_position": null,
            "order": null,
            "overflow": null,
            "overflow_x": null,
            "overflow_y": null,
            "padding": null,
            "right": null,
            "top": null,
            "visibility": null,
            "width": null
          }
        },
        "3d32732a85c64bd79cb439f99db22fc5": {
          "model_module": "@jupyter-widgets/controls",
          "model_module_version": "1.5.0",
          "model_name": "ProgressStyleModel",
          "state": {
            "_model_module": "@jupyter-widgets/controls",
            "_model_module_version": "1.5.0",
            "_model_name": "ProgressStyleModel",
            "_view_count": null,
            "_view_module": "@jupyter-widgets/base",
            "_view_module_version": "1.2.0",
            "_view_name": "StyleView",
            "bar_color": null,
            "description_width": ""
          }
        },
        "489934122238455187f4b273fcccb7ee": {
          "model_module": "@jupyter-widgets/base",
          "model_module_version": "1.2.0",
          "model_name": "LayoutModel",
          "state": {
            "_model_module": "@jupyter-widgets/base",
            "_model_module_version": "1.2.0",
            "_model_name": "LayoutModel",
            "_view_count": null,
            "_view_module": "@jupyter-widgets/base",
            "_view_module_version": "1.2.0",
            "_view_name": "LayoutView",
            "align_content": null,
            "align_items": null,
            "align_self": null,
            "border": null,
            "bottom": null,
            "display": null,
            "flex": null,
            "flex_flow": null,
            "grid_area": null,
            "grid_auto_columns": null,
            "grid_auto_flow": null,
            "grid_auto_rows": null,
            "grid_column": null,
            "grid_gap": null,
            "grid_row": null,
            "grid_template_areas": null,
            "grid_template_columns": null,
            "grid_template_rows": null,
            "height": null,
            "justify_content": null,
            "justify_items": null,
            "left": null,
            "margin": null,
            "max_height": null,
            "max_width": null,
            "min_height": null,
            "min_width": null,
            "object_fit": null,
            "object_position": null,
            "order": null,
            "overflow": null,
            "overflow_x": null,
            "overflow_y": null,
            "padding": null,
            "right": null,
            "top": null,
            "visibility": null,
            "width": null
          }
        },
        "5b0310ab176a45a7b7e7b5d52663e844": {
          "model_module": "@jupyter-widgets/controls",
          "model_module_version": "1.5.0",
          "model_name": "DescriptionStyleModel",
          "state": {
            "_model_module": "@jupyter-widgets/controls",
            "_model_module_version": "1.5.0",
            "_model_name": "DescriptionStyleModel",
            "_view_count": null,
            "_view_module": "@jupyter-widgets/base",
            "_view_module_version": "1.2.0",
            "_view_name": "StyleView",
            "description_width": ""
          }
        },
        "6bdc8ac14b6f4cafbf7ea9e4cda4fc0e": {
          "model_module": "@jupyter-widgets/base",
          "model_module_version": "1.2.0",
          "model_name": "LayoutModel",
          "state": {
            "_model_module": "@jupyter-widgets/base",
            "_model_module_version": "1.2.0",
            "_model_name": "LayoutModel",
            "_view_count": null,
            "_view_module": "@jupyter-widgets/base",
            "_view_module_version": "1.2.0",
            "_view_name": "LayoutView",
            "align_content": null,
            "align_items": null,
            "align_self": null,
            "border": null,
            "bottom": null,
            "display": null,
            "flex": null,
            "flex_flow": null,
            "grid_area": null,
            "grid_auto_columns": null,
            "grid_auto_flow": null,
            "grid_auto_rows": null,
            "grid_column": null,
            "grid_gap": null,
            "grid_row": null,
            "grid_template_areas": null,
            "grid_template_columns": null,
            "grid_template_rows": null,
            "height": null,
            "justify_content": null,
            "justify_items": null,
            "left": null,
            "margin": null,
            "max_height": null,
            "max_width": null,
            "min_height": null,
            "min_width": null,
            "object_fit": null,
            "object_position": null,
            "order": null,
            "overflow": null,
            "overflow_x": null,
            "overflow_y": null,
            "padding": null,
            "right": null,
            "top": null,
            "visibility": null,
            "width": null
          }
        },
        "70113961f03c4db9947b7b8f1cbcd150": {
          "model_module": "@jupyter-widgets/base",
          "model_module_version": "1.2.0",
          "model_name": "LayoutModel",
          "state": {
            "_model_module": "@jupyter-widgets/base",
            "_model_module_version": "1.2.0",
            "_model_name": "LayoutModel",
            "_view_count": null,
            "_view_module": "@jupyter-widgets/base",
            "_view_module_version": "1.2.0",
            "_view_name": "LayoutView",
            "align_content": null,
            "align_items": null,
            "align_self": null,
            "border": null,
            "bottom": null,
            "display": null,
            "flex": null,
            "flex_flow": null,
            "grid_area": null,
            "grid_auto_columns": null,
            "grid_auto_flow": null,
            "grid_auto_rows": null,
            "grid_column": null,
            "grid_gap": null,
            "grid_row": null,
            "grid_template_areas": null,
            "grid_template_columns": null,
            "grid_template_rows": null,
            "height": null,
            "justify_content": null,
            "justify_items": null,
            "left": null,
            "margin": null,
            "max_height": null,
            "max_width": null,
            "min_height": null,
            "min_width": null,
            "object_fit": null,
            "object_position": null,
            "order": null,
            "overflow": null,
            "overflow_x": null,
            "overflow_y": null,
            "padding": null,
            "right": null,
            "top": null,
            "visibility": null,
            "width": null
          }
        },
        "75c3f24e10904da8908245865e209263": {
          "model_module": "@jupyter-widgets/controls",
          "model_module_version": "1.5.0",
          "model_name": "DescriptionStyleModel",
          "state": {
            "_model_module": "@jupyter-widgets/controls",
            "_model_module_version": "1.5.0",
            "_model_name": "DescriptionStyleModel",
            "_view_count": null,
            "_view_module": "@jupyter-widgets/base",
            "_view_module_version": "1.2.0",
            "_view_name": "StyleView",
            "description_width": ""
          }
        },
        "84f90dc5c16b4ce09b0b3cb883571de2": {
          "model_module": "@jupyter-widgets/controls",
          "model_module_version": "1.5.0",
          "model_name": "HTMLModel",
          "state": {
            "_dom_classes": [],
            "_model_module": "@jupyter-widgets/controls",
            "_model_module_version": "1.5.0",
            "_model_name": "HTMLModel",
            "_view_count": null,
            "_view_module": "@jupyter-widgets/controls",
            "_view_module_version": "1.5.0",
            "_view_name": "HTMLView",
            "description": "",
            "description_tooltip": null,
            "layout": "IPY_MODEL_cb47c4fe214a40f4843d321dffcc6d23",
            "placeholder": "​",
            "style": "IPY_MODEL_04ed2268e943431894fc1e9d4a5e3029",
            "value": "Downloading (…)solve/main/vocab.txt: 100%"
          }
        },
        "8635c35520774e11ac95fdacd801ae59": {
          "model_module": "@jupyter-widgets/base",
          "model_module_version": "1.2.0",
          "model_name": "LayoutModel",
          "state": {
            "_model_module": "@jupyter-widgets/base",
            "_model_module_version": "1.2.0",
            "_model_name": "LayoutModel",
            "_view_count": null,
            "_view_module": "@jupyter-widgets/base",
            "_view_module_version": "1.2.0",
            "_view_name": "LayoutView",
            "align_content": null,
            "align_items": null,
            "align_self": null,
            "border": null,
            "bottom": null,
            "display": null,
            "flex": null,
            "flex_flow": null,
            "grid_area": null,
            "grid_auto_columns": null,
            "grid_auto_flow": null,
            "grid_auto_rows": null,
            "grid_column": null,
            "grid_gap": null,
            "grid_row": null,
            "grid_template_areas": null,
            "grid_template_columns": null,
            "grid_template_rows": null,
            "height": null,
            "justify_content": null,
            "justify_items": null,
            "left": null,
            "margin": null,
            "max_height": null,
            "max_width": null,
            "min_height": null,
            "min_width": null,
            "object_fit": null,
            "object_position": null,
            "order": null,
            "overflow": null,
            "overflow_x": null,
            "overflow_y": null,
            "padding": null,
            "right": null,
            "top": null,
            "visibility": null,
            "width": null
          }
        },
        "8de0f33e6f884ba5a9931270f9735857": {
          "model_module": "@jupyter-widgets/base",
          "model_module_version": "1.2.0",
          "model_name": "LayoutModel",
          "state": {
            "_model_module": "@jupyter-widgets/base",
            "_model_module_version": "1.2.0",
            "_model_name": "LayoutModel",
            "_view_count": null,
            "_view_module": "@jupyter-widgets/base",
            "_view_module_version": "1.2.0",
            "_view_name": "LayoutView",
            "align_content": null,
            "align_items": null,
            "align_self": null,
            "border": null,
            "bottom": null,
            "display": null,
            "flex": null,
            "flex_flow": null,
            "grid_area": null,
            "grid_auto_columns": null,
            "grid_auto_flow": null,
            "grid_auto_rows": null,
            "grid_column": null,
            "grid_gap": null,
            "grid_row": null,
            "grid_template_areas": null,
            "grid_template_columns": null,
            "grid_template_rows": null,
            "height": null,
            "justify_content": null,
            "justify_items": null,
            "left": null,
            "margin": null,
            "max_height": null,
            "max_width": null,
            "min_height": null,
            "min_width": null,
            "object_fit": null,
            "object_position": null,
            "order": null,
            "overflow": null,
            "overflow_x": null,
            "overflow_y": null,
            "padding": null,
            "right": null,
            "top": null,
            "visibility": null,
            "width": null
          }
        },
        "901bd307740e4c2eabe14f7a52663640": {
          "model_module": "@jupyter-widgets/controls",
          "model_module_version": "1.5.0",
          "model_name": "DescriptionStyleModel",
          "state": {
            "_model_module": "@jupyter-widgets/controls",
            "_model_module_version": "1.5.0",
            "_model_name": "DescriptionStyleModel",
            "_view_count": null,
            "_view_module": "@jupyter-widgets/base",
            "_view_module_version": "1.2.0",
            "_view_name": "StyleView",
            "description_width": ""
          }
        },
        "97e86262e6c24a1ab2364ac5dd8d92e2": {
          "model_module": "@jupyter-widgets/base",
          "model_module_version": "1.2.0",
          "model_name": "LayoutModel",
          "state": {
            "_model_module": "@jupyter-widgets/base",
            "_model_module_version": "1.2.0",
            "_model_name": "LayoutModel",
            "_view_count": null,
            "_view_module": "@jupyter-widgets/base",
            "_view_module_version": "1.2.0",
            "_view_name": "LayoutView",
            "align_content": null,
            "align_items": null,
            "align_self": null,
            "border": null,
            "bottom": null,
            "display": null,
            "flex": null,
            "flex_flow": null,
            "grid_area": null,
            "grid_auto_columns": null,
            "grid_auto_flow": null,
            "grid_auto_rows": null,
            "grid_column": null,
            "grid_gap": null,
            "grid_row": null,
            "grid_template_areas": null,
            "grid_template_columns": null,
            "grid_template_rows": null,
            "height": null,
            "justify_content": null,
            "justify_items": null,
            "left": null,
            "margin": null,
            "max_height": null,
            "max_width": null,
            "min_height": null,
            "min_width": null,
            "object_fit": null,
            "object_position": null,
            "order": null,
            "overflow": null,
            "overflow_x": null,
            "overflow_y": null,
            "padding": null,
            "right": null,
            "top": null,
            "visibility": null,
            "width": null
          }
        },
        "994498cd440a48318a0a69543803b0f1": {
          "model_module": "@jupyter-widgets/base",
          "model_module_version": "1.2.0",
          "model_name": "LayoutModel",
          "state": {
            "_model_module": "@jupyter-widgets/base",
            "_model_module_version": "1.2.0",
            "_model_name": "LayoutModel",
            "_view_count": null,
            "_view_module": "@jupyter-widgets/base",
            "_view_module_version": "1.2.0",
            "_view_name": "LayoutView",
            "align_content": null,
            "align_items": null,
            "align_self": null,
            "border": null,
            "bottom": null,
            "display": null,
            "flex": null,
            "flex_flow": null,
            "grid_area": null,
            "grid_auto_columns": null,
            "grid_auto_flow": null,
            "grid_auto_rows": null,
            "grid_column": null,
            "grid_gap": null,
            "grid_row": null,
            "grid_template_areas": null,
            "grid_template_columns": null,
            "grid_template_rows": null,
            "height": null,
            "justify_content": null,
            "justify_items": null,
            "left": null,
            "margin": null,
            "max_height": null,
            "max_width": null,
            "min_height": null,
            "min_width": null,
            "object_fit": null,
            "object_position": null,
            "order": null,
            "overflow": null,
            "overflow_x": null,
            "overflow_y": null,
            "padding": null,
            "right": null,
            "top": null,
            "visibility": null,
            "width": null
          }
        },
        "9b673de436114c0b801397614b19591d": {
          "model_module": "@jupyter-widgets/base",
          "model_module_version": "1.2.0",
          "model_name": "LayoutModel",
          "state": {
            "_model_module": "@jupyter-widgets/base",
            "_model_module_version": "1.2.0",
            "_model_name": "LayoutModel",
            "_view_count": null,
            "_view_module": "@jupyter-widgets/base",
            "_view_module_version": "1.2.0",
            "_view_name": "LayoutView",
            "align_content": null,
            "align_items": null,
            "align_self": null,
            "border": null,
            "bottom": null,
            "display": null,
            "flex": null,
            "flex_flow": null,
            "grid_area": null,
            "grid_auto_columns": null,
            "grid_auto_flow": null,
            "grid_auto_rows": null,
            "grid_column": null,
            "grid_gap": null,
            "grid_row": null,
            "grid_template_areas": null,
            "grid_template_columns": null,
            "grid_template_rows": null,
            "height": null,
            "justify_content": null,
            "justify_items": null,
            "left": null,
            "margin": null,
            "max_height": null,
            "max_width": null,
            "min_height": null,
            "min_width": null,
            "object_fit": null,
            "object_position": null,
            "order": null,
            "overflow": null,
            "overflow_x": null,
            "overflow_y": null,
            "padding": null,
            "right": null,
            "top": null,
            "visibility": null,
            "width": null
          }
        },
        "9fd1bcd509424459a44ae8cbbf51db75": {
          "model_module": "@jupyter-widgets/controls",
          "model_module_version": "1.5.0",
          "model_name": "HBoxModel",
          "state": {
            "_dom_classes": [],
            "_model_module": "@jupyter-widgets/controls",
            "_model_module_version": "1.5.0",
            "_model_name": "HBoxModel",
            "_view_count": null,
            "_view_module": "@jupyter-widgets/controls",
            "_view_module_version": "1.5.0",
            "_view_name": "HBoxView",
            "box_style": "",
            "children": [
              "IPY_MODEL_ac52f16299b94a599e60103ed30c4899",
              "IPY_MODEL_fc9fcd5609984e20b4ed3f4f0c8d78f8",
              "IPY_MODEL_bac242b8ad3c4524ab250800dca08e3b"
            ],
            "layout": "IPY_MODEL_ce5a03c258b4481e8ce2735b60364955"
          }
        },
        "a035f376e8dc497984b386bf3a253bcc": {
          "model_module": "@jupyter-widgets/controls",
          "model_module_version": "1.5.0",
          "model_name": "HBoxModel",
          "state": {
            "_dom_classes": [],
            "_model_module": "@jupyter-widgets/controls",
            "_model_module_version": "1.5.0",
            "_model_name": "HBoxModel",
            "_view_count": null,
            "_view_module": "@jupyter-widgets/controls",
            "_view_module_version": "1.5.0",
            "_view_name": "HBoxView",
            "box_style": "",
            "children": [
              "IPY_MODEL_84f90dc5c16b4ce09b0b3cb883571de2",
              "IPY_MODEL_10d0e9d62a154e78b766c09fabbdd476",
              "IPY_MODEL_20c122f9e7434a5399922725725cd33c"
            ],
            "layout": "IPY_MODEL_8de0f33e6f884ba5a9931270f9735857"
          }
        },
        "a8ef597c7e9f4ace947473d5e6ac6347": {
          "model_module": "@jupyter-widgets/base",
          "model_module_version": "1.2.0",
          "model_name": "LayoutModel",
          "state": {
            "_model_module": "@jupyter-widgets/base",
            "_model_module_version": "1.2.0",
            "_model_name": "LayoutModel",
            "_view_count": null,
            "_view_module": "@jupyter-widgets/base",
            "_view_module_version": "1.2.0",
            "_view_name": "LayoutView",
            "align_content": null,
            "align_items": null,
            "align_self": null,
            "border": null,
            "bottom": null,
            "display": null,
            "flex": null,
            "flex_flow": null,
            "grid_area": null,
            "grid_auto_columns": null,
            "grid_auto_flow": null,
            "grid_auto_rows": null,
            "grid_column": null,
            "grid_gap": null,
            "grid_row": null,
            "grid_template_areas": null,
            "grid_template_columns": null,
            "grid_template_rows": null,
            "height": null,
            "justify_content": null,
            "justify_items": null,
            "left": null,
            "margin": null,
            "max_height": null,
            "max_width": null,
            "min_height": null,
            "min_width": null,
            "object_fit": null,
            "object_position": null,
            "order": null,
            "overflow": null,
            "overflow_x": null,
            "overflow_y": null,
            "padding": null,
            "right": null,
            "top": null,
            "visibility": null,
            "width": null
          }
        },
        "ac52f16299b94a599e60103ed30c4899": {
          "model_module": "@jupyter-widgets/controls",
          "model_module_version": "1.5.0",
          "model_name": "HTMLModel",
          "state": {
            "_dom_classes": [],
            "_model_module": "@jupyter-widgets/controls",
            "_model_module_version": "1.5.0",
            "_model_name": "HTMLModel",
            "_view_count": null,
            "_view_module": "@jupyter-widgets/controls",
            "_view_module_version": "1.5.0",
            "_view_name": "HTMLView",
            "description": "",
            "description_tooltip": null,
            "layout": "IPY_MODEL_a8ef597c7e9f4ace947473d5e6ac6347",
            "placeholder": "​",
            "style": "IPY_MODEL_75c3f24e10904da8908245865e209263",
            "value": "Downloading (…)okenizer_config.json: 100%"
          }
        },
        "b9b5a3e0de3a464eb68006469c35fd04": {
          "model_module": "@jupyter-widgets/controls",
          "model_module_version": "1.5.0",
          "model_name": "DescriptionStyleModel",
          "state": {
            "_model_module": "@jupyter-widgets/controls",
            "_model_module_version": "1.5.0",
            "_model_name": "DescriptionStyleModel",
            "_view_count": null,
            "_view_module": "@jupyter-widgets/base",
            "_view_module_version": "1.2.0",
            "_view_name": "StyleView",
            "description_width": ""
          }
        },
        "bac242b8ad3c4524ab250800dca08e3b": {
          "model_module": "@jupyter-widgets/controls",
          "model_module_version": "1.5.0",
          "model_name": "HTMLModel",
          "state": {
            "_dom_classes": [],
            "_model_module": "@jupyter-widgets/controls",
            "_model_module_version": "1.5.0",
            "_model_name": "HTMLModel",
            "_view_count": null,
            "_view_module": "@jupyter-widgets/controls",
            "_view_module_version": "1.5.0",
            "_view_name": "HTMLView",
            "description": "",
            "description_tooltip": null,
            "layout": "IPY_MODEL_1bc8748bd6304e96ac9b6cd27c3af0cb",
            "placeholder": "​",
            "style": "IPY_MODEL_901bd307740e4c2eabe14f7a52663640",
            "value": " 28.0/28.0 [00:00&lt;00:00, 1.88kB/s]"
          }
        },
        "c1cd670214374c91b8037f1ec896773a": {
          "model_module": "@jupyter-widgets/controls",
          "model_module_version": "1.5.0",
          "model_name": "HTMLModel",
          "state": {
            "_dom_classes": [],
            "_model_module": "@jupyter-widgets/controls",
            "_model_module_version": "1.5.0",
            "_model_name": "HTMLModel",
            "_view_count": null,
            "_view_module": "@jupyter-widgets/controls",
            "_view_module_version": "1.5.0",
            "_view_name": "HTMLView",
            "description": "",
            "description_tooltip": null,
            "layout": "IPY_MODEL_489934122238455187f4b273fcccb7ee",
            "placeholder": "​",
            "style": "IPY_MODEL_1f01888cbc874086acc823be366520f2",
            "value": "Downloading model.safetensors: 100%"
          }
        },
        "cb47c4fe214a40f4843d321dffcc6d23": {
          "model_module": "@jupyter-widgets/base",
          "model_module_version": "1.2.0",
          "model_name": "LayoutModel",
          "state": {
            "_model_module": "@jupyter-widgets/base",
            "_model_module_version": "1.2.0",
            "_model_name": "LayoutModel",
            "_view_count": null,
            "_view_module": "@jupyter-widgets/base",
            "_view_module_version": "1.2.0",
            "_view_name": "LayoutView",
            "align_content": null,
            "align_items": null,
            "align_self": null,
            "border": null,
            "bottom": null,
            "display": null,
            "flex": null,
            "flex_flow": null,
            "grid_area": null,
            "grid_auto_columns": null,
            "grid_auto_flow": null,
            "grid_auto_rows": null,
            "grid_column": null,
            "grid_gap": null,
            "grid_row": null,
            "grid_template_areas": null,
            "grid_template_columns": null,
            "grid_template_rows": null,
            "height": null,
            "justify_content": null,
            "justify_items": null,
            "left": null,
            "margin": null,
            "max_height": null,
            "max_width": null,
            "min_height": null,
            "min_width": null,
            "object_fit": null,
            "object_position": null,
            "order": null,
            "overflow": null,
            "overflow_x": null,
            "overflow_y": null,
            "padding": null,
            "right": null,
            "top": null,
            "visibility": null,
            "width": null
          }
        },
        "ce5a03c258b4481e8ce2735b60364955": {
          "model_module": "@jupyter-widgets/base",
          "model_module_version": "1.2.0",
          "model_name": "LayoutModel",
          "state": {
            "_model_module": "@jupyter-widgets/base",
            "_model_module_version": "1.2.0",
            "_model_name": "LayoutModel",
            "_view_count": null,
            "_view_module": "@jupyter-widgets/base",
            "_view_module_version": "1.2.0",
            "_view_name": "LayoutView",
            "align_content": null,
            "align_items": null,
            "align_self": null,
            "border": null,
            "bottom": null,
            "display": null,
            "flex": null,
            "flex_flow": null,
            "grid_area": null,
            "grid_auto_columns": null,
            "grid_auto_flow": null,
            "grid_auto_rows": null,
            "grid_column": null,
            "grid_gap": null,
            "grid_row": null,
            "grid_template_areas": null,
            "grid_template_columns": null,
            "grid_template_rows": null,
            "height": null,
            "justify_content": null,
            "justify_items": null,
            "left": null,
            "margin": null,
            "max_height": null,
            "max_width": null,
            "min_height": null,
            "min_width": null,
            "object_fit": null,
            "object_position": null,
            "order": null,
            "overflow": null,
            "overflow_x": null,
            "overflow_y": null,
            "padding": null,
            "right": null,
            "top": null,
            "visibility": null,
            "width": null
          }
        },
        "cfb1b4a86cc640a298e18c521e8643fc": {
          "model_module": "@jupyter-widgets/controls",
          "model_module_version": "1.5.0",
          "model_name": "DescriptionStyleModel",
          "state": {
            "_model_module": "@jupyter-widgets/controls",
            "_model_module_version": "1.5.0",
            "_model_name": "DescriptionStyleModel",
            "_view_count": null,
            "_view_module": "@jupyter-widgets/base",
            "_view_module_version": "1.2.0",
            "_view_name": "StyleView",
            "description_width": ""
          }
        },
        "d1780f67797c44f3949fe0812422d2a6": {
          "model_module": "@jupyter-widgets/controls",
          "model_module_version": "1.5.0",
          "model_name": "HTMLModel",
          "state": {
            "_dom_classes": [],
            "_model_module": "@jupyter-widgets/controls",
            "_model_module_version": "1.5.0",
            "_model_name": "HTMLModel",
            "_view_count": null,
            "_view_module": "@jupyter-widgets/controls",
            "_view_module_version": "1.5.0",
            "_view_name": "HTMLView",
            "description": "",
            "description_tooltip": null,
            "layout": "IPY_MODEL_6bdc8ac14b6f4cafbf7ea9e4cda4fc0e",
            "placeholder": "​",
            "style": "IPY_MODEL_e1629aaf0526469499806fc227a44e85",
            "value": "Downloading (…)lve/main/config.json: 100%"
          }
        },
        "d5f24ab5c1e94b36829118c20b68a40d": {
          "model_module": "@jupyter-widgets/controls",
          "model_module_version": "1.5.0",
          "model_name": "HBoxModel",
          "state": {
            "_dom_classes": [],
            "_model_module": "@jupyter-widgets/controls",
            "_model_module_version": "1.5.0",
            "_model_name": "HBoxModel",
            "_view_count": null,
            "_view_module": "@jupyter-widgets/controls",
            "_view_module_version": "1.5.0",
            "_view_name": "HBoxView",
            "box_style": "",
            "children": [
              "IPY_MODEL_c1cd670214374c91b8037f1ec896773a",
              "IPY_MODEL_1512cfe4979b441f9926d7c3fc41191e",
              "IPY_MODEL_dbdc7f2cf53b48c8933803e4020cf3fb"
            ],
            "layout": "IPY_MODEL_3601866e7c1545c793aee99030b3eeb7"
          }
        },
        "d9a7356c06f643fab9c72dc4e147350d": {
          "model_module": "@jupyter-widgets/controls",
          "model_module_version": "1.5.0",
          "model_name": "ProgressStyleModel",
          "state": {
            "_model_module": "@jupyter-widgets/controls",
            "_model_module_version": "1.5.0",
            "_model_name": "ProgressStyleModel",
            "_view_count": null,
            "_view_module": "@jupyter-widgets/base",
            "_view_module_version": "1.2.0",
            "_view_name": "StyleView",
            "bar_color": null,
            "description_width": ""
          }
        },
        "dbdc7f2cf53b48c8933803e4020cf3fb": {
          "model_module": "@jupyter-widgets/controls",
          "model_module_version": "1.5.0",
          "model_name": "HTMLModel",
          "state": {
            "_dom_classes": [],
            "_model_module": "@jupyter-widgets/controls",
            "_model_module_version": "1.5.0",
            "_model_name": "HTMLModel",
            "_view_count": null,
            "_view_module": "@jupyter-widgets/controls",
            "_view_module_version": "1.5.0",
            "_view_name": "HTMLView",
            "description": "",
            "description_tooltip": null,
            "layout": "IPY_MODEL_8635c35520774e11ac95fdacd801ae59",
            "placeholder": "​",
            "style": "IPY_MODEL_cfb1b4a86cc640a298e18c521e8643fc",
            "value": " 268M/268M [00:00&lt;00:00, 296MB/s]"
          }
        },
        "de4007fdcd6a45418c157dbcb9ea593d": {
          "model_module": "@jupyter-widgets/base",
          "model_module_version": "1.2.0",
          "model_name": "LayoutModel",
          "state": {
            "_model_module": "@jupyter-widgets/base",
            "_model_module_version": "1.2.0",
            "_model_name": "LayoutModel",
            "_view_count": null,
            "_view_module": "@jupyter-widgets/base",
            "_view_module_version": "1.2.0",
            "_view_name": "LayoutView",
            "align_content": null,
            "align_items": null,
            "align_self": null,
            "border": null,
            "bottom": null,
            "display": null,
            "flex": null,
            "flex_flow": null,
            "grid_area": null,
            "grid_auto_columns": null,
            "grid_auto_flow": null,
            "grid_auto_rows": null,
            "grid_column": null,
            "grid_gap": null,
            "grid_row": null,
            "grid_template_areas": null,
            "grid_template_columns": null,
            "grid_template_rows": null,
            "height": null,
            "justify_content": null,
            "justify_items": null,
            "left": null,
            "margin": null,
            "max_height": null,
            "max_width": null,
            "min_height": null,
            "min_width": null,
            "object_fit": null,
            "object_position": null,
            "order": null,
            "overflow": null,
            "overflow_x": null,
            "overflow_y": null,
            "padding": null,
            "right": null,
            "top": null,
            "visibility": null,
            "width": null
          }
        },
        "e1629aaf0526469499806fc227a44e85": {
          "model_module": "@jupyter-widgets/controls",
          "model_module_version": "1.5.0",
          "model_name": "DescriptionStyleModel",
          "state": {
            "_model_module": "@jupyter-widgets/controls",
            "_model_module_version": "1.5.0",
            "_model_name": "DescriptionStyleModel",
            "_view_count": null,
            "_view_module": "@jupyter-widgets/base",
            "_view_module_version": "1.2.0",
            "_view_name": "StyleView",
            "description_width": ""
          }
        },
        "fc9fcd5609984e20b4ed3f4f0c8d78f8": {
          "model_module": "@jupyter-widgets/controls",
          "model_module_version": "1.5.0",
          "model_name": "FloatProgressModel",
          "state": {
            "_dom_classes": [],
            "_model_module": "@jupyter-widgets/controls",
            "_model_module_version": "1.5.0",
            "_model_name": "FloatProgressModel",
            "_view_count": null,
            "_view_module": "@jupyter-widgets/controls",
            "_view_module_version": "1.5.0",
            "_view_name": "ProgressView",
            "bar_style": "success",
            "description": "",
            "description_tooltip": null,
            "layout": "IPY_MODEL_994498cd440a48318a0a69543803b0f1",
            "max": 28,
            "min": 0,
            "orientation": "horizontal",
            "style": "IPY_MODEL_d9a7356c06f643fab9c72dc4e147350d",
            "value": 28
          }
        }
      }
    }
  },
  "nbformat": 4,
  "nbformat_minor": 0
}